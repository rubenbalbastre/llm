{
  "cells": [
    {
      "cell_type": "markdown",
      "metadata": {
        "id": "FzuPok9MpMs0"
      },
      "source": [
        "# Supervised Fine-Tuning on LLM"
      ]
    },
    {
      "cell_type": "code",
      "execution_count": null,
      "metadata": {
        "colab": {
          "base_uri": "https://localhost:8080/"
        },
        "id": "qYXW3DRAtU8B",
        "outputId": "74c55e6f-fbe1-4e5d-9770-1f873149db6a"
      },
      "outputs": [
        {
          "name": "stdout",
          "output_type": "stream",
          "text": [
            "\u001b[?25l   \u001b[90m━━━━━━━━━━━━━━━━━━━━━━━━━━━━━━━━━━━━━━━━\u001b[0m \u001b[32m0.0/376.2 kB\u001b[0m \u001b[31m?\u001b[0m eta \u001b[36m-:--:--\u001b[0m\r\u001b[2K   \u001b[90m━━━━━━━━━━━━━━━━━━━━━━━━━━━━━━━━━━━━━━━━\u001b[0m \u001b[32m376.2/376.2 kB\u001b[0m \u001b[31m12.8 MB/s\u001b[0m eta \u001b[36m0:00:00\u001b[0m\n",
            "\u001b[2K   \u001b[90m━━━━━━━━━━━━━━━━━━━━━━━━━━━━━━━━━━━━━━━━\u001b[0m \u001b[32m494.8/494.8 kB\u001b[0m \u001b[31m17.2 MB/s\u001b[0m eta \u001b[36m0:00:00\u001b[0m\n",
            "\u001b[2K   \u001b[90m━━━━━━━━━━━━━━━━━━━━━━━━━━━━━━━━━━━━━━━━\u001b[0m \u001b[32m72.9/72.9 MB\u001b[0m \u001b[31m12.4 MB/s\u001b[0m eta \u001b[36m0:00:00\u001b[0m\n",
            "\u001b[2K   \u001b[90m━━━━━━━━━━━━━━━━━━━━━━━━━━━━━━━━━━━━━━━━\u001b[0m \u001b[32m193.6/193.6 kB\u001b[0m \u001b[31m15.6 MB/s\u001b[0m eta \u001b[36m0:00:00\u001b[0m\n",
            "\u001b[2K   \u001b[90m━━━━━━━━━━━━━━━━━━━━━━━━━━━━━━━━━━━━━━━━\u001b[0m \u001b[32m363.4/363.4 MB\u001b[0m \u001b[31m4.5 MB/s\u001b[0m eta \u001b[36m0:00:00\u001b[0m\n",
            "\u001b[2K   \u001b[90m━━━━━━━━━━━━━━━━━━━━━━━━━━━━━━━━━━━━━━━━\u001b[0m \u001b[32m13.8/13.8 MB\u001b[0m \u001b[31m66.3 MB/s\u001b[0m eta \u001b[36m0:00:00\u001b[0m\n",
            "\u001b[2K   \u001b[90m━━━━━━━━━━━━━━━━━━━━━━━━━━━━━━━━━━━━━━━━\u001b[0m \u001b[32m24.6/24.6 MB\u001b[0m \u001b[31m52.3 MB/s\u001b[0m eta \u001b[36m0:00:00\u001b[0m\n",
            "\u001b[2K   \u001b[90m━━━━━━━━━━━━━━━━━━━━━━━━━━━━━━━━━━━━━━━━\u001b[0m \u001b[32m883.7/883.7 kB\u001b[0m \u001b[31m37.9 MB/s\u001b[0m eta \u001b[36m0:00:00\u001b[0m\n",
            "\u001b[2K   \u001b[90m━━━━━━━━━━━━━━━━━━━━━━━━━━━━━━━━━━━━━━━━\u001b[0m \u001b[32m664.8/664.8 MB\u001b[0m \u001b[31m2.8 MB/s\u001b[0m eta \u001b[36m0:00:00\u001b[0m\n",
            "\u001b[2K   \u001b[90m━━━━━━━━━━━━━━━━━━━━━━━━━━━━━━━━━━━━━━━━\u001b[0m \u001b[32m211.5/211.5 MB\u001b[0m \u001b[31m5.2 MB/s\u001b[0m eta \u001b[36m0:00:00\u001b[0m\n",
            "\u001b[2K   \u001b[90m━━━━━━━━━━━━━━━━━━━━━━━━━━━━━━━━━━━━━━━━\u001b[0m \u001b[32m56.3/56.3 MB\u001b[0m \u001b[31m13.8 MB/s\u001b[0m eta \u001b[36m0:00:00\u001b[0m\n",
            "\u001b[2K   \u001b[90m━━━━━━━━━━━━━━━━━━━━━━━━━━━━━━━━━━━━━━━━\u001b[0m \u001b[32m127.9/127.9 MB\u001b[0m \u001b[31m8.7 MB/s\u001b[0m eta \u001b[36m0:00:00\u001b[0m\n",
            "\u001b[2K   \u001b[90m━━━━━━━━━━━━━━━━━━━━━━━━━━━━━━━━━━━━━━━━\u001b[0m \u001b[32m207.5/207.5 MB\u001b[0m \u001b[31m5.3 MB/s\u001b[0m eta \u001b[36m0:00:00\u001b[0m\n",
            "\u001b[2K   \u001b[90m━━━━━━━━━━━━━━━━━━━━━━━━━━━━━━━━━━━━━━━━\u001b[0m \u001b[32m21.1/21.1 MB\u001b[0m \u001b[31m52.7 MB/s\u001b[0m eta \u001b[36m0:00:00\u001b[0m\n",
            "\u001b[?25h\u001b[31mERROR: pip's dependency resolver does not currently take into account all the packages that are installed. This behaviour is the source of the following dependency conflicts.\n",
            "gcsfs 2025.3.2 requires fsspec==2025.3.2, but you have fsspec 2025.3.0 which is incompatible.\u001b[0m\u001b[31m\n",
            "\u001b[0m"
          ]
        }
      ],
      "source": [
        "!pip install transformers accelerate datasets trl bitsandbytes -q\n"
      ]
    },
    {
      "cell_type": "code",
      "execution_count": null,
      "metadata": {
        "id": "IiLLw4vLXMfi"
      },
      "outputs": [],
      "source": [
        "import torch\n",
        "\n",
        "device = \"cuda\" if torch.cuda.is_available() else \"cpu\"\n",
        "\n",
        "import os\n",
        "os.environ[\"WANDB_DISABLED\"] = \"True\""
      ]
    },
    {
      "cell_type": "markdown",
      "metadata": {
        "id": "okFzY71zVM65"
      },
      "source": [
        "# Load Dataset"
      ]
    },
    {
      "cell_type": "code",
      "execution_count": null,
      "metadata": {
        "colab": {
          "base_uri": "https://localhost:8080/"
        },
        "id": "6Q35STgFhD8T",
        "outputId": "69af2b4c-2f60-4e29-817a-c38832a07d29"
      },
      "outputs": [
        {
          "data": {
            "text/plain": [
              "Dataset({\n",
              "    features: ['text', 'input'],\n",
              "    num_rows: 1\n",
              "})"
            ]
          },
          "execution_count": 3,
          "metadata": {},
          "output_type": "execute_result"
        }
      ],
      "source": [
        "from datasets import Dataset\n",
        "\n",
        "data = [\n",
        "    {\"text\": \"### Instruction: \\nWho is Pedro Sanchez? \\n### Response: \\nAn spanish politician\", \"input\": \"### Instruction: \\nWho is Pedro Sanchez?\"},\n",
        "]\n",
        "dataset = Dataset.from_list(data)\n",
        "dataset"
      ]
    },
    {
      "cell_type": "markdown",
      "metadata": {
        "id": "vMCPNaDritWm"
      },
      "source": [
        "# Load Model"
      ]
    },
    {
      "cell_type": "code",
      "execution_count": null,
      "metadata": {
        "id": "Du5bwXJ1jKld"
      },
      "outputs": [],
      "source": [
        "!rm -rf /content/EleutherAI/"
      ]
    },
    {
      "cell_type": "code",
      "execution_count": null,
      "metadata": {
        "colab": {
          "base_uri": "https://localhost:8080/",
          "height": 397,
          "referenced_widgets": [
            "a64f5cf3f50c4083935be153dcbb88e3",
            "6991129037d440deafc2119b72111d91",
            "009adab895204461936135195ba9a21d",
            "98e3934d3ee34079b64951c840ec672e",
            "3426dcda44d14880a8390f9d6ba76fda",
            "08c39a8600b54937868a4be87e697d7a",
            "13dd1c2df61e4689873a1705694b0e36",
            "678e1ec25394466bb50c3f48be808902",
            "c3292e38dcae4fa1a3894d2556ae6624",
            "5eceb9b731dc43f8842622e4bddb1526",
            "686d439e27e54c3390eac89eb12123b3",
            "f757e3e3d4be4edcaad5f3c6e9ba5abd",
            "95dce357547c464e813629148bcc12c8",
            "ce3aa594684f4a548d9e06a395d0d8ef",
            "ca6a2be97004406d85e4f7c9dbb4837f",
            "c67cfa429b2c41c8b5e35656ffc5229f",
            "2f8c739ef466422f92f825ae2efcdc94",
            "9d81559b927e41e8b525d73f0b25c884",
            "c43dd628a9f640ff8ef9192644acde2c",
            "f25a5458710c4f4aadcc242419ace65f",
            "6146c6a554384f66855bcad65a12c33e",
            "ed7304693703432abc2a50e0178c00ff",
            "14500ae0ead64c0da4907c2588b81251",
            "b765f21de328440f91f1330c12eca765",
            "566a8f5717f44406b4d4c6c67dcb6ffa",
            "1364f93bb31841fcafcfdf408f2462c8",
            "123b93f810d146cba3b130540ef16520",
            "d0d9e15f16b34fc0a600cd32d6927b9d",
            "e40af1f7c3b34e3f9045c10fb15126fa",
            "f9a1d46f4fa548ffa2b4bbe58e264cb7",
            "709b02b3f6b44b7bba5f8eda81d748e0",
            "97aa04649f6447bfa839d8fbc705e833",
            "eeacf214d39841fa9df3b41731f3d43c",
            "9cc89a7aa3d646738844a1c755ff6ec7",
            "d1ebf9da2d424c1d8e9c520d043b2d8f",
            "227c1c0a6f3144dbacc67e851dca7d6b",
            "2b5906dc85a3460ea3bdbd6a8ab12101",
            "ead4758d666f450f80e8a0d1facc4729",
            "a8f96ebb78554766bd5b956736d1a814",
            "3cbbeb6e4bbd47b086fefc4e51d1f3db",
            "d4fa16f660034eb98200ce34a0f0e8ca",
            "2bd0391937a94ef786afc69064233469",
            "6df79b6a637145ad98bcf27e29033460",
            "a56be968561a49deb568d79d2cbe5bb4",
            "3a8fbbac59914084a5e0360c850481a4",
            "293ddbd0bb784de2a8d9b3896c954629",
            "91365a2ef97b499c9840f4e044e9fe78",
            "82283864415346ee906dd8a6542c1ce6",
            "53d650098b38473bbf3106842b98daf1",
            "dae99296dc744d0daceef900573e2fa1",
            "674030504e9145a9a555c11d2eb02abb",
            "811fbb7355e349ffae516326f02268c8",
            "df3ff21d819541c785e3d4db4c6cba3d",
            "050ad88379da4c08941c512af4010c2f",
            "e0e06183d056471488fee509880416e1",
            "649eccaf3f29440c926baeee92930383",
            "6c92727cdc3b4d40810d66002fe98b35",
            "ab94d6a51a014120bb92019e3b084567",
            "3e68e0747d444221ac928be734b36a32",
            "06a13030a47b4eac818598711f5745d9",
            "b47fa930159f4e62a0a68eeaa6c21025",
            "bdcaa29d3b6b46ffa7bbedc97209b774",
            "5eb0d241fe1c4ce6bb3cf64527cb668f",
            "cd3d551d6d054c5890032de2b0d6bb02",
            "d87944c377d74ac8a3b8a4069f2fba77",
            "88d95fc8db04456d9abd6c8baee2555c",
            "86523712ac9e4ebd96751d2bc3ca99fa",
            "08cc6bb70bfc49149693c98d85692d12",
            "069c432359d84a00a7000e17b77dcd70",
            "dc59a1f324a940f69c5a90ff6bcd238e",
            "1241338a376b4ea5955e4b9c0367cb1e",
            "370a56cb2bb843458dddb02f3b6d6143",
            "490d975bc4f843ea9c49e07b9a078a62",
            "93450ca4b0d046bd933f8c1b27e742ca",
            "38b2c943302544ac9cf4c599852d92a1",
            "96bd1793f0fa468f9c9564a7c5637a43",
            "8e668c5f80af4e63b9b5d2bed9c9a028",
            "13c77c9666094b7ab76f1d5e7b26fe43",
            "a5b718eb7f8442b9918dd65b31552717",
            "bc903124fa17439e8f1acbc605688fc9",
            "4cebc319f00d47fd9b7879b340ff8e75",
            "4580395000884455848ebdd8526b7520",
            "9f0039584e5a4f3fa036ddc11845ca1e",
            "26da386edf6d45029862af8a32ca1741",
            "9c071f3887fb4a43b6aacc675daea910",
            "1bb9fa7ad7514798a9732212296318f9",
            "ccabbdca38714bfbbc90a1a43e50ca6a",
            "b2f5923c216f4bf99b74464b862b1b4f"
          ]
        },
        "id": "8iYsPTfIhatW",
        "outputId": "6c9f905d-2d04-4d98-a14b-be2540773a3a"
      },
      "outputs": [
        {
          "name": "stderr",
          "output_type": "stream",
          "text": [
            "/usr/local/lib/python3.11/dist-packages/huggingface_hub/utils/_auth.py:94: UserWarning: \n",
            "The secret `HF_TOKEN` does not exist in your Colab secrets.\n",
            "To authenticate with the Hugging Face Hub, create a token in your settings tab (https://huggingface.co/settings/tokens), set it as secret in your Google Colab and restart your session.\n",
            "You will be able to reuse this secret in all of your notebooks.\n",
            "Please note that authentication is recommended but still optional to access public models or datasets.\n",
            "  warnings.warn(\n"
          ]
        },
        {
          "data": {
            "application/vnd.jupyter.widget-view+json": {
              "model_id": "a64f5cf3f50c4083935be153dcbb88e3",
              "version_major": 2,
              "version_minor": 0
            },
            "text/plain": [
              "config.json: 0.00B [00:00, ?B/s]"
            ]
          },
          "metadata": {},
          "output_type": "display_data"
        },
        {
          "data": {
            "application/vnd.jupyter.widget-view+json": {
              "model_id": "f757e3e3d4be4edcaad5f3c6e9ba5abd",
              "version_major": 2,
              "version_minor": 0
            },
            "text/plain": [
              "model.safetensors:   0%|          | 0.00/526M [00:00<?, ?B/s]"
            ]
          },
          "metadata": {},
          "output_type": "display_data"
        },
        {
          "data": {
            "application/vnd.jupyter.widget-view+json": {
              "model_id": "14500ae0ead64c0da4907c2588b81251",
              "version_major": 2,
              "version_minor": 0
            },
            "text/plain": [
              "generation_config.json:   0%|          | 0.00/119 [00:00<?, ?B/s]"
            ]
          },
          "metadata": {},
          "output_type": "display_data"
        },
        {
          "data": {
            "application/vnd.jupyter.widget-view+json": {
              "model_id": "9cc89a7aa3d646738844a1c755ff6ec7",
              "version_major": 2,
              "version_minor": 0
            },
            "text/plain": [
              "tokenizer_config.json:   0%|          | 0.00/727 [00:00<?, ?B/s]"
            ]
          },
          "metadata": {},
          "output_type": "display_data"
        },
        {
          "data": {
            "application/vnd.jupyter.widget-view+json": {
              "model_id": "3a8fbbac59914084a5e0360c850481a4",
              "version_major": 2,
              "version_minor": 0
            },
            "text/plain": [
              "vocab.json: 0.00B [00:00, ?B/s]"
            ]
          },
          "metadata": {},
          "output_type": "display_data"
        },
        {
          "data": {
            "application/vnd.jupyter.widget-view+json": {
              "model_id": "649eccaf3f29440c926baeee92930383",
              "version_major": 2,
              "version_minor": 0
            },
            "text/plain": [
              "merges.txt: 0.00B [00:00, ?B/s]"
            ]
          },
          "metadata": {},
          "output_type": "display_data"
        },
        {
          "data": {
            "application/vnd.jupyter.widget-view+json": {
              "model_id": "86523712ac9e4ebd96751d2bc3ca99fa",
              "version_major": 2,
              "version_minor": 0
            },
            "text/plain": [
              "tokenizer.json: 0.00B [00:00, ?B/s]"
            ]
          },
          "metadata": {},
          "output_type": "display_data"
        },
        {
          "data": {
            "application/vnd.jupyter.widget-view+json": {
              "model_id": "13c77c9666094b7ab76f1d5e7b26fe43",
              "version_major": 2,
              "version_minor": 0
            },
            "text/plain": [
              "special_tokens_map.json:   0%|          | 0.00/357 [00:00<?, ?B/s]"
            ]
          },
          "metadata": {},
          "output_type": "display_data"
        }
      ],
      "source": [
        "from transformers import AutoModelForCausalLM, AutoTokenizer\n",
        "\n",
        "# Load model and tokenizer\n",
        "model_name = \"EleutherAI/gpt-neo-125m\"\n",
        "model = AutoModelForCausalLM.from_pretrained(model_name).to(device)\n",
        "tokenizer = AutoTokenizer.from_pretrained(model_name)"
      ]
    },
    {
      "cell_type": "code",
      "execution_count": null,
      "metadata": {
        "colab": {
          "base_uri": "https://localhost:8080/"
        },
        "id": "8bayrqZDhsOX",
        "outputId": "6f86f66e-ee7f-4c7b-818c-2fea159be280"
      },
      "outputs": [
        {
          "name": "stderr",
          "output_type": "stream",
          "text": [
            "Setting `pad_token_id` to `eos_token_id`:50256 for open-end generation.\n"
          ]
        },
        {
          "name": "stdout",
          "output_type": "stream",
          "text": [
            "### Instruction: \n",
            "Who is Pedro Sanchez?\n",
            "\n",
            "A:\n",
            "\n",
            "I'm not sure\n"
          ]
        }
      ],
      "source": [
        "for item in dataset:\n",
        "    inputs = tokenizer(item[\"input\"], return_tensors=\"pt\").to(device)\n",
        "    outputs = model.generate(**inputs, max_new_tokens=10, eos_token_id=tokenizer.eos_token_id,)\n",
        "    print(tokenizer.decode(outputs[0], skip_special_tokens=True))"
      ]
    },
    {
      "cell_type": "markdown",
      "metadata": {
        "id": "TqxFWdzSlmez"
      },
      "source": [
        "# Fine-Tuning: SFT"
      ]
    },
    {
      "cell_type": "code",
      "execution_count": null,
      "metadata": {
        "colab": {
          "base_uri": "https://localhost:8080/",
          "height": 1000,
          "referenced_widgets": [
            "c083ec393f264ba0873ff6006666c2b3",
            "12c2d4de14c04109813e0adb2b4abd5f",
            "f0fb5665cf4347599920778b0b583cd5",
            "8dedc8120a3f4e9f9f6288bdddaa117d",
            "ffd353925a3245d2a6cbe1562cecef50",
            "f614df5688c446c0bac67449d8c7db64",
            "a0bf4f7273334cb8ac5bf19b9d211923",
            "4c4a2301c92d46bd9932cc7f1c15e33d",
            "2a690a43f1504fdbb1bbbd96d60d2177",
            "2aee6fc686fa4b00b3cd7d80022409c4",
            "03148018134e43c69818747745c5dc09",
            "1295af9948ca42fe980ba9222a1968e2",
            "4d5ae17d5b954c789c215bdb2ed46da3",
            "c7275532ad0a40be9f76d640fbd445d8",
            "5245b41ff4e342c3a9c25057bcb5c97e",
            "c9766f0ab78049dfa6efc19178156e76",
            "4fee44f59b91472a834c5330bedcda76",
            "147c9c3f238b4f00a815a8d0740e76d8",
            "18e7bcaee5c94a69aea53dec260fd1b8",
            "25d49f1dc9b04148a789d465abfecdf3",
            "8b47e6e537544a24bc33b2109ead24a1",
            "8b3269ec48fc4ecf8d22b641a815f0ca",
            "b83a8b0d88454bfb8aebb5c46111c615",
            "80a873d27d8d40daae215e6560982c5b",
            "6ac0a96bb67a4be8a0da75df28aaded1",
            "f824dce39c914246b787aa2bac61b1a4",
            "23d01eea080e4dbf85c2a7418c0db9ea",
            "f040b6e7790547ea8fac3a1a126b1ae3",
            "22c696eea9314ea9a598d34a1a9f1411",
            "4235841cfbf44feb91e8ecf6ffb51afe",
            "8d5ef2c526cf4fadbf06f2bcdb97dbd7",
            "b26ed7d954634c6e923fcb4af7279e13",
            "da0c6924ea544cdfa985ab2ff08d1a62"
          ]
        },
        "id": "z-azTwpxVOnl",
        "outputId": "9f3f57d4-e6e9-4547-dae8-925e902b231f"
      },
      "outputs": [
        {
          "name": "stderr",
          "output_type": "stream",
          "text": [
            "Using the `WANDB_DISABLED` environment variable is deprecated and will be removed in v5. Use the --report_to flag to control the integrations used for logging result (for instance --report_to none).\n",
            "Using the `WANDB_DISABLED` environment variable is deprecated and will be removed in v5. Use the --report_to flag to control the integrations used for logging result (for instance --report_to none).\n"
          ]
        },
        {
          "data": {
            "application/vnd.jupyter.widget-view+json": {
              "model_id": "c083ec393f264ba0873ff6006666c2b3",
              "version_major": 2,
              "version_minor": 0
            },
            "text/plain": [
              "Adding EOS to train dataset:   0%|          | 0/1 [00:00<?, ? examples/s]"
            ]
          },
          "metadata": {},
          "output_type": "display_data"
        },
        {
          "data": {
            "application/vnd.jupyter.widget-view+json": {
              "model_id": "1295af9948ca42fe980ba9222a1968e2",
              "version_major": 2,
              "version_minor": 0
            },
            "text/plain": [
              "Tokenizing train dataset:   0%|          | 0/1 [00:00<?, ? examples/s]"
            ]
          },
          "metadata": {},
          "output_type": "display_data"
        },
        {
          "data": {
            "application/vnd.jupyter.widget-view+json": {
              "model_id": "b83a8b0d88454bfb8aebb5c46111c615",
              "version_major": 2,
              "version_minor": 0
            },
            "text/plain": [
              "Truncating train dataset:   0%|          | 0/1 [00:00<?, ? examples/s]"
            ]
          },
          "metadata": {},
          "output_type": "display_data"
        },
        {
          "data": {
            "text/html": [
              "\n",
              "    <div>\n",
              "      \n",
              "      <progress value='50' max='50' style='width:300px; height:20px; vertical-align: middle;'></progress>\n",
              "      [50/50 00:16, Epoch 50/50]\n",
              "    </div>\n",
              "    <table border=\"1\" class=\"dataframe\">\n",
              "  <thead>\n",
              " <tr style=\"text-align: left;\">\n",
              "      <th>Step</th>\n",
              "      <th>Training Loss</th>\n",
              "    </tr>\n",
              "  </thead>\n",
              "  <tbody>\n",
              "    <tr>\n",
              "      <td>1</td>\n",
              "      <td>5.042500</td>\n",
              "    </tr>\n",
              "    <tr>\n",
              "      <td>2</td>\n",
              "      <td>4.954000</td>\n",
              "    </tr>\n",
              "    <tr>\n",
              "      <td>3</td>\n",
              "      <td>4.796400</td>\n",
              "    </tr>\n",
              "    <tr>\n",
              "      <td>4</td>\n",
              "      <td>4.711500</td>\n",
              "    </tr>\n",
              "    <tr>\n",
              "      <td>5</td>\n",
              "      <td>4.386000</td>\n",
              "    </tr>\n",
              "    <tr>\n",
              "      <td>6</td>\n",
              "      <td>4.257000</td>\n",
              "    </tr>\n",
              "    <tr>\n",
              "      <td>7</td>\n",
              "      <td>4.178400</td>\n",
              "    </tr>\n",
              "    <tr>\n",
              "      <td>8</td>\n",
              "      <td>3.437600</td>\n",
              "    </tr>\n",
              "    <tr>\n",
              "      <td>9</td>\n",
              "      <td>3.388900</td>\n",
              "    </tr>\n",
              "    <tr>\n",
              "      <td>10</td>\n",
              "      <td>3.320500</td>\n",
              "    </tr>\n",
              "    <tr>\n",
              "      <td>11</td>\n",
              "      <td>3.234900</td>\n",
              "    </tr>\n",
              "    <tr>\n",
              "      <td>12</td>\n",
              "      <td>3.110200</td>\n",
              "    </tr>\n",
              "    <tr>\n",
              "      <td>13</td>\n",
              "      <td>3.052900</td>\n",
              "    </tr>\n",
              "    <tr>\n",
              "      <td>14</td>\n",
              "      <td>2.994500</td>\n",
              "    </tr>\n",
              "    <tr>\n",
              "      <td>15</td>\n",
              "      <td>2.202500</td>\n",
              "    </tr>\n",
              "    <tr>\n",
              "      <td>16</td>\n",
              "      <td>1.821700</td>\n",
              "    </tr>\n",
              "    <tr>\n",
              "      <td>17</td>\n",
              "      <td>1.745800</td>\n",
              "    </tr>\n",
              "    <tr>\n",
              "      <td>18</td>\n",
              "      <td>1.682700</td>\n",
              "    </tr>\n",
              "    <tr>\n",
              "      <td>19</td>\n",
              "      <td>1.615500</td>\n",
              "    </tr>\n",
              "    <tr>\n",
              "      <td>20</td>\n",
              "      <td>1.529000</td>\n",
              "    </tr>\n",
              "    <tr>\n",
              "      <td>21</td>\n",
              "      <td>1.448700</td>\n",
              "    </tr>\n",
              "    <tr>\n",
              "      <td>22</td>\n",
              "      <td>1.392900</td>\n",
              "    </tr>\n",
              "    <tr>\n",
              "      <td>23</td>\n",
              "      <td>1.335300</td>\n",
              "    </tr>\n",
              "    <tr>\n",
              "      <td>24</td>\n",
              "      <td>1.181600</td>\n",
              "    </tr>\n",
              "    <tr>\n",
              "      <td>25</td>\n",
              "      <td>1.078500</td>\n",
              "    </tr>\n",
              "    <tr>\n",
              "      <td>26</td>\n",
              "      <td>1.008400</td>\n",
              "    </tr>\n",
              "    <tr>\n",
              "      <td>27</td>\n",
              "      <td>0.944300</td>\n",
              "    </tr>\n",
              "    <tr>\n",
              "      <td>28</td>\n",
              "      <td>0.902600</td>\n",
              "    </tr>\n",
              "    <tr>\n",
              "      <td>29</td>\n",
              "      <td>0.842100</td>\n",
              "    </tr>\n",
              "    <tr>\n",
              "      <td>30</td>\n",
              "      <td>0.784700</td>\n",
              "    </tr>\n",
              "    <tr>\n",
              "      <td>31</td>\n",
              "      <td>0.734800</td>\n",
              "    </tr>\n",
              "    <tr>\n",
              "      <td>32</td>\n",
              "      <td>0.695300</td>\n",
              "    </tr>\n",
              "    <tr>\n",
              "      <td>33</td>\n",
              "      <td>0.653700</td>\n",
              "    </tr>\n",
              "    <tr>\n",
              "      <td>34</td>\n",
              "      <td>0.586000</td>\n",
              "    </tr>\n",
              "    <tr>\n",
              "      <td>35</td>\n",
              "      <td>0.412900</td>\n",
              "    </tr>\n",
              "    <tr>\n",
              "      <td>36</td>\n",
              "      <td>0.282300</td>\n",
              "    </tr>\n",
              "    <tr>\n",
              "      <td>37</td>\n",
              "      <td>0.199500</td>\n",
              "    </tr>\n",
              "    <tr>\n",
              "      <td>38</td>\n",
              "      <td>0.134200</td>\n",
              "    </tr>\n",
              "    <tr>\n",
              "      <td>39</td>\n",
              "      <td>0.082400</td>\n",
              "    </tr>\n",
              "    <tr>\n",
              "      <td>40</td>\n",
              "      <td>0.045700</td>\n",
              "    </tr>\n",
              "    <tr>\n",
              "      <td>41</td>\n",
              "      <td>0.032600</td>\n",
              "    </tr>\n",
              "    <tr>\n",
              "      <td>42</td>\n",
              "      <td>0.022000</td>\n",
              "    </tr>\n",
              "    <tr>\n",
              "      <td>43</td>\n",
              "      <td>0.017900</td>\n",
              "    </tr>\n",
              "    <tr>\n",
              "      <td>44</td>\n",
              "      <td>0.014500</td>\n",
              "    </tr>\n",
              "    <tr>\n",
              "      <td>45</td>\n",
              "      <td>0.012500</td>\n",
              "    </tr>\n",
              "    <tr>\n",
              "      <td>46</td>\n",
              "      <td>0.010600</td>\n",
              "    </tr>\n",
              "    <tr>\n",
              "      <td>47</td>\n",
              "      <td>0.009500</td>\n",
              "    </tr>\n",
              "    <tr>\n",
              "      <td>48</td>\n",
              "      <td>0.008300</td>\n",
              "    </tr>\n",
              "    <tr>\n",
              "      <td>49</td>\n",
              "      <td>0.008100</td>\n",
              "    </tr>\n",
              "    <tr>\n",
              "      <td>50</td>\n",
              "      <td>0.007700</td>\n",
              "    </tr>\n",
              "  </tbody>\n",
              "</table><p>"
            ],
            "text/plain": [
              "<IPython.core.display.HTML object>"
            ]
          },
          "metadata": {},
          "output_type": "display_data"
        },
        {
          "name": "stderr",
          "output_type": "stream",
          "text": [
            "Using the `WANDB_DISABLED` environment variable is deprecated and will be removed in v5. Use the --report_to flag to control the integrations used for logging result (for instance --report_to none).\n"
          ]
        },
        {
          "data": {
            "text/plain": [
              "TrainOutput(global_step=50, training_loss=1.6070455980207772, metrics={'train_runtime': 17.6365, 'train_samples_per_second': 2.835, 'train_steps_per_second': 2.835, 'total_flos': 561187123200.0, 'train_loss': 1.6070455980207772})"
            ]
          },
          "execution_count": 7,
          "metadata": {},
          "output_type": "execute_result"
        }
      ],
      "source": [
        "from trl import SFTConfig, SFTTrainer\n",
        "\n",
        "training_args = SFTConfig(\n",
        "    output_dir=model_name,\n",
        "    num_train_epochs=50,\n",
        "    report_to=None,\n",
        "    logging_steps=1,\n",
        "    logging_strategy=\"steps\"\n",
        "  )\n",
        "\n",
        "trainer = SFTTrainer(\n",
        "    model=model,\n",
        "    train_dataset=dataset,\n",
        "    args=training_args\n",
        ")\n",
        "\n",
        "trainer.train()"
      ]
    },
    {
      "cell_type": "markdown",
      "metadata": {
        "id": "-HjGDsZdnRi2"
      },
      "source": [
        "Plot loss function"
      ]
    },
    {
      "cell_type": "code",
      "execution_count": null,
      "metadata": {
        "colab": {
          "base_uri": "https://localhost:8080/",
          "height": 472
        },
        "id": "8VPUArXlkR6B",
        "outputId": "712771c8-5423-4479-9bc4-0c47749ec506"
      },
      "outputs": [
        {
          "data": {
            "image/png": "[encoded data removed]",
            "text/plain": [
              "<Figure size 640x480 with 1 Axes>"
            ]
          },
          "metadata": {},
          "output_type": "display_data"
        }
      ],
      "source": [
        "import json\n",
        "import matplotlib.pyplot as plt\n",
        "\n",
        "logs = json.load(open(\"/content/EleutherAI/gpt-neo-125m/checkpoint-50/trainer_state.json\", \"r\"))\n",
        "\n",
        "losses = [entry[\"loss\"] for entry in logs[\"log_history\"] if \"loss\" in entry]\n",
        "steps = list(range(len(losses)))\n",
        "\n",
        "plt.plot(steps, losses,\"-o\")\n",
        "plt.xlabel(\"Step\")\n",
        "plt.ylabel(\"Training Loss\")\n",
        "plt.title(\"SFT Training Loss (trl.SFTTrainer)\")\n",
        "plt.grid()\n",
        "plt.show()"
      ]
    },
    {
      "cell_type": "markdown",
      "metadata": {
        "id": "Hj9BI6_znToQ"
      },
      "source": [
        "Test new inference"
      ]
    },
    {
      "cell_type": "code",
      "execution_count": null,
      "metadata": {
        "colab": {
          "base_uri": "https://localhost:8080/"
        },
        "id": "tVO2lgRZnVmS",
        "outputId": "63df1cb1-fc9c-488a-a32e-a05590298b0e"
      },
      "outputs": [
        {
          "name": "stderr",
          "output_type": "stream",
          "text": [
            "Setting `pad_token_id` to `eos_token_id`:50256 for open-end generation.\n"
          ]
        },
        {
          "name": "stdout",
          "output_type": "stream",
          "text": [
            "### Instruction: \n",
            "Who is Pedro Sanchez? \n",
            "### Response: \n",
            "An spanish politician\n"
          ]
        }
      ],
      "source": [
        "for item in dataset:\n",
        "    inputs = tokenizer(item[\"input\"], return_tensors=\"pt\").to(device)\n",
        "    outputs = model.generate(**inputs)\n",
        "    print(tokenizer.decode(outputs[0], skip_special_tokens=True))"
      ]
    }
  ],
  "metadata": {
    "accelerator": "GPU",
    "colab": {
      "gpuType": "T4",
      "provenance": []
    },
    "kernelspec": {
      "display_name": "Python 3",
      "name": "python3"
    },
    "language_info": {
      "name": "python"
    }
  },
  "nbformat": 4,
  "nbformat_minor": 0
}
