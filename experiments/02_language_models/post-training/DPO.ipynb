{
  "cells": [
    {
      "cell_type": "markdown",
      "metadata": {
        "id": "zh_vDYseRt8_"
      },
      "source": [
        "# Direct Preference Optimization (DPO) on LLM"
      ]
    },
    {
      "cell_type": "code",
      "execution_count": 1,
      "metadata": {
        "id": "05HZHk4ZRo2s"
      },
      "outputs": [],
      "source": [
        "!pip install transformers accelerate datasets trl bitsandbytes -q"
      ]
    },
    {
      "cell_type": "code",
      "execution_count": 2,
      "metadata": {
        "id": "Z-ysKMKARxq_"
      },
      "outputs": [],
      "source": [
        "import torch\n",
        "\n",
        "device = \"cuda\" if torch.cuda.is_available() else \"cpu\"\n",
        "\n",
        "import os\n",
        "os.environ[\"WANDB_DISABLED\"] = \"True\""
      ]
    },
    {
      "cell_type": "markdown",
      "metadata": {
        "id": "AsUq6JiNR3qA"
      },
      "source": [
        "# Load Dataset"
      ]
    },
    {
      "cell_type": "code",
      "execution_count": 3,
      "metadata": {
        "id": "ufyDHKsWR3Dg"
      },
      "outputs": [],
      "source": [
        "# from datasets import Dataset\n",
        "\n",
        "# data = [{\n",
        "#         \"chosen\": [{\"content\": \"Write me a poem\", \"role\": \"user\"}, {\"content\": \"Poeeeeeeeem\", \"role\": \"assistant\"}],\n",
        "#         \"rejected\": [{\"content\": \"Write me a poem\", \"role\": \"user\"}, {\"content\": \"I don't know\", \"role\": \"assistant\"}],\n",
        "#         \"score_chose\": 7,\n",
        "#         \"score_rejected\": 2\n",
        "# }]\n",
        "# dataset = Dataset.from_list(data)\n",
        "# dataset"
      ]
    },
    {
      "cell_type": "code",
      "execution_count": 4,
      "metadata": {
        "colab": {
          "base_uri": "https://localhost:8080/"
        },
        "id": "a_mbFJeDLYPB",
        "outputId": "6bf35766-c572-4126-d1c2-9dbe75088662"
      },
      "outputs": [
        {
          "name": "stderr",
          "output_type": "stream",
          "text": [
            "/usr/local/lib/python3.11/dist-packages/huggingface_hub/utils/_auth.py:94: UserWarning: \n",
            "The secret `HF_TOKEN` does not exist in your Colab secrets.\n",
            "To authenticate with the Hugging Face Hub, create a token in your settings tab (https://huggingface.co/settings/tokens), set it as secret in your Google Colab and restart your session.\n",
            "You will be able to reuse this secret in all of your notebooks.\n",
            "Please note that authentication is recommended but still optional to access public models or datasets.\n",
            "  warnings.warn(\n"
          ]
        },
        {
          "data": {
            "text/plain": [
              "Dataset({\n",
              "    features: ['chosen', 'rejected', 'score_chosen', 'score_rejected'],\n",
              "    num_rows: 50\n",
              "})"
            ]
          },
          "execution_count": 4,
          "metadata": {},
          "output_type": "execute_result"
        }
      ],
      "source": [
        "from datasets import load_dataset\n",
        "\n",
        "dataset = load_dataset(\"trl-lib/ultrafeedback_binarized\", split=\"train[:50]\")\n",
        "dataset"
      ]
    },
    {
      "cell_type": "markdown",
      "metadata": {
        "id": "uVY7JiFoR7qG"
      },
      "source": [
        "# Load Model"
      ]
    },
    {
      "cell_type": "code",
      "execution_count": 5,
      "metadata": {
        "id": "mu49RMHVdqnQ"
      },
      "outputs": [],
      "source": [
        "!rm -rf /content/Qwen/ #!rm -rf /content/EleutherAI/"
      ]
    },
    {
      "cell_type": "code",
      "execution_count": 6,
      "metadata": {
        "id": "iuKATn6bR8Cm"
      },
      "outputs": [],
      "source": [
        "from transformers import AutoModelForCausalLM, AutoTokenizer\n",
        "from peft import LoraConfig, get_peft_model\n",
        "\n",
        "# Load model and tokenizer\n",
        "model_name = \"Qwen/Qwen2-0.5B-Instruct\" #\"EleutherAI/gpt-neo-125m\"\n",
        "model = AutoModelForCausalLM.from_pretrained(model_name).to(device)\n",
        "\n",
        "lora_config = LoraConfig(\n",
        "    r=4,\n",
        "    lora_alpha=16,\n",
        "    lora_dropout=0.05,\n",
        "    bias=\"none\",\n",
        "    task_type=\"CAUSAL_LM\",\n",
        "    target_modules=[\"q_proj\", \"v_proj\"]\n",
        ")\n",
        "\n",
        "model = get_peft_model(model, lora_config)\n",
        "\n",
        "tokenizer = AutoTokenizer.from_pretrained(model_name)"
      ]
    },
    {
      "cell_type": "code",
      "execution_count": 7,
      "metadata": {
        "id": "bK6UUWzmHvc-"
      },
      "outputs": [],
      "source": [
        "# if tokenizer.pad_token is None:\n",
        "#   tokenizer.pad_token = tokenizer.eos_token\n",
        "\n",
        "# if tokenizer.chat_template is None:\n",
        "#   tokenizer.chat_template = \"\"\"{% for message in messages %}\n",
        "# {% if message['role'] == 'user' %}\n",
        "# User: {{ message['content'] }}\n",
        "# Assistant:\n",
        "# {% elif message['role'] == 'assistant' and not loop.last %}\n",
        "# {{ message['content'] }}\n",
        "# {% endif %}\n",
        "# {% endfor %}\n",
        "# \"\"\""
      ]
    },
    {
      "cell_type": "markdown",
      "metadata": {
        "id": "qWYJ1gp8eeAH"
      },
      "source": [
        "Let's see model predictions"
      ]
    },
    {
      "cell_type": "code",
      "execution_count": 8,
      "metadata": {
        "colab": {
          "base_uri": "https://localhost:8080/"
        },
        "id": "BXaF9xoqHDEG",
        "outputId": "773c3022-f3be-409d-894f-01c9c5e8a947"
      },
      "outputs": [
        {
          "name": "stdout",
          "output_type": "stream",
          "text": [
            "system\n",
            "You are a helpful assistant.\n",
            "user\n",
            "Use the pygame library to write a version of the classic game Snake, with a unique twist\n",
            "assistant\n",
            "Sure, I'd be happy to help you write a version of the classic game Snake using the pygame library! Here's a basic outline of how we can approach this:\n",
            "\n",
            "1. First, we'll need to set up the game display and create a game object that we can use to handle the game's state.\n",
            "2. Next, we'll create the game's grid, which will be used to represent the game board. We'll need to define the size of the grid and the spaces within it.\n",
            "3. After that, we'll create the snake object, which will be used to represent the player's movement. We'll need to define the size of the snake and the speed at which it moves.\n",
            "4. We'll also need to create a food object, which will be used to represent the food that the player must collect to score points. We'll need to define the location of the food and the speed at which it moves.\n",
            "5. Once we have these objects set up, we can start handling the game's logic. We'll need to define the rules for the player's movements, such as how the player can move the snake and how the snake will grow as the player collects more food.\n",
            "6. We'll also need to add collisions detection to the game, so that the snake and the food can collide with each other.\n",
            "7. Finally, we'll need to add a user interface to the game, such as a menu and a scoreboard.\n",
            "\n",
            "Now, as for the unique twist, we could add a few features to make the game more interesting. For example, we could add power-ups that give the player special abilities, such as the ability to grow the snake faster or to change its direction. We could also add obstacles, such as walls or pits, that the player must avoid.\n",
            "\n",
            "Here's some sample code to get us started:\n",
            "```\n",
            "import pygame\n",
            "\n",
            "# Initialize pygame\n",
            "pygame.init()\n",
            "\n",
            "# Set up the game display\n",
            "width = 800\n",
            "height = 600\n",
            "screen = pygame.display.set_mode((width, height))\n",
            "\n",
            "# Define the colors\n",
            "WHITE = (255, 255, 255)\n",
            "BLACK = (0, 0, 0)\n",
            "GREEN = (0, 255, 0)\n",
            "\n",
            "# Define the game objects\n",
            "snake = pygame.Rect(50, 50, 10, 10)\n",
            "food = pygame.Rect(100, 100, 10, 10)\n",
            "\n",
            "# Define the game logic\n",
            "def update_snake():\n",
            "    # Get the mouse position\n",
            "    mouse_pos = pygame.mouse.get_pos()\n",
            "\n",
            "    # Move the snake based on the mouse position\n",
            "    if mouse_pos[0] > snake.x:\n",
            "        snake.x += 10\n",
            "    elif mouse_pos[0] < snake.x:\n",
            "        snake.x -= 10\n",
            "    elif mouse_pos[1] > snake.y:\n",
            "        snake.y += 10\n",
            "    elif mouse_pos[1] < snake.y:\n",
            "        snake.y -= 10\n",
            "\n",
            "    # Update the snake's size\n",
            "    if snake.x == food.x and snake.y == food.y:\n",
            "        snake.width += 10\n",
            "        snake.height += 10\n",
            "\n",
            "# Define the game loop\n",
            "def game_loop():\n",
            "    # Clear the screen\n",
            "    screen.fill(BLACK)\n",
            "\n",
            "    # Update the game objects\n",
            "    update_snake()\n",
            "\n",
            "    # Draw the game objects\n",
            "    screen.fill(WHITE)\n",
            "    screen.draw.rect(snake, GREEN)\n",
            "    screen.draw.rect(food, BLACK)\n",
            "\n",
            "    # Update the display\n",
            "    pygame.display.flip()\n",
            "\n",
            "# Start the game loop\n",
            "game_loop()\n",
            "\n",
            "# Run the game\n",
            "while True:\n",
            "    for event in pygame.event.get():\n",
            "        if event.type == pygame.QUIT:\n",
            "            pygame.quit()\n",
            "            break\n",
            "\n",
            "    pygame.time.Clock().tick(60)\n",
            "```\n",
            "This code sets up a basic game display, defines the snake and food objects, and updates the game state based on the player's movements. We've also added a simple user interface and some basic collision detection.\n",
            "\n",
            "As for the unique twist, we could add a few features to make the game\n",
            "assistant\n",
            "I'm sorry, but I don't see any specific ideas for adding a unique twist to your game. The game is already quite simple and straightforward, and there isn't much room for innovation. However, here are some suggestions for making the game more interesting:\n",
            "\n",
            "1. Add a boss level where the player must fight their way through a series of traps and obstacles before they can progress to the next level.\n",
            "2. Create a variety of different types of food, such as fruits, vegetables, and insects \n",
            " ---------------\n"
          ]
        }
      ],
      "source": [
        "for item in dataset.select(range(1)):\n",
        "    full_prompt = tokenizer.apply_chat_template(\n",
        "      item[\"chosen\"],\n",
        "      tokenize=False,\n",
        "      add_generation_prompt=True  # important to add assistant's turn\n",
        "    )\n",
        "    inputs = tokenizer(full_prompt, return_tensors=\"pt\").to(device)\n",
        "    outputs = model.generate(**inputs, max_new_tokens=100, eos_token_id=tokenizer.eos_token_id)\n",
        "    print(tokenizer.decode(outputs[0], skip_special_tokens=True), \"\\n\", \"---\"*5)"
      ]
    },
    {
      "cell_type": "markdown",
      "metadata": {
        "id": "8pMo3x7fR-u0"
      },
      "source": [
        "# Fine-Tuning: Direct-Preference Optimization (DPO)"
      ]
    },
    {
      "cell_type": "markdown",
      "metadata": {
        "id": "_UsRVzDwrrJ3"
      },
      "source": [
        "Training setup uses batch size = 1 due to my GPU limitations (Google Colab free). No succesful learning is done. Loss function states around log(2) which means no distinction between chosen and rejected. Loss function noise to values < log(2) is due to examples where the model succesfully differentiate and where it effectively learns.\n",
        "\n",
        "More work to be done here."
      ]
    },
    {
      "cell_type": "code",
      "execution_count": 9,
      "metadata": {
        "colab": {
          "base_uri": "https://localhost:8080/",
          "height": 1000
        },
        "id": "Tv0ZktzpR-RF",
        "outputId": "69f13f29-af22-44e5-cef3-2e5d416175d1"
      },
      "outputs": [
        {
          "name": "stderr",
          "output_type": "stream",
          "text": [
            "Using the `WANDB_DISABLED` environment variable is deprecated and will be removed in v5. Use the --report_to flag to control the integrations used for logging result (for instance --report_to none).\n",
            "Using the `WANDB_DISABLED` environment variable is deprecated and will be removed in v5. Use the --report_to flag to control the integrations used for logging result (for instance --report_to none).\n",
            "No label_names provided for model class `PeftModelForCausalLM`. Since `PeftModel` hides base models input arguments, if label_names is not given, label_names can't be set automatically within `Trainer`. Note that empty label_names list will be used instead.\n"
          ]
        },
        {
          "data": {
            "text/html": [
              "\n",
              "    <div>\n",
              "      \n",
              "      <progress value='35' max='35' style='width:300px; height:20px; vertical-align: middle;'></progress>\n",
              "      [35/35 06:54, Epoch 5/5]\n",
              "    </div>\n",
              "    <table border=\"1\" class=\"dataframe\">\n",
              "  <thead>\n",
              " <tr style=\"text-align: left;\">\n",
              "      <th>Step</th>\n",
              "      <th>Training Loss</th>\n",
              "    </tr>\n",
              "  </thead>\n",
              "  <tbody>\n",
              "    <tr>\n",
              "      <td>1</td>\n",
              "      <td>0.693100</td>\n",
              "    </tr>\n",
              "    <tr>\n",
              "      <td>2</td>\n",
              "      <td>0.679000</td>\n",
              "    </tr>\n",
              "    <tr>\n",
              "      <td>3</td>\n",
              "      <td>0.709100</td>\n",
              "    </tr>\n",
              "    <tr>\n",
              "      <td>4</td>\n",
              "      <td>0.694300</td>\n",
              "    </tr>\n",
              "    <tr>\n",
              "      <td>5</td>\n",
              "      <td>0.693700</td>\n",
              "    </tr>\n",
              "    <tr>\n",
              "      <td>6</td>\n",
              "      <td>0.689700</td>\n",
              "    </tr>\n",
              "    <tr>\n",
              "      <td>7</td>\n",
              "      <td>0.181300</td>\n",
              "    </tr>\n",
              "    <tr>\n",
              "      <td>8</td>\n",
              "      <td>0.678000</td>\n",
              "    </tr>\n",
              "    <tr>\n",
              "      <td>9</td>\n",
              "      <td>0.670900</td>\n",
              "    </tr>\n",
              "    <tr>\n",
              "      <td>10</td>\n",
              "      <td>0.707600</td>\n",
              "    </tr>\n",
              "    <tr>\n",
              "      <td>11</td>\n",
              "      <td>0.706200</td>\n",
              "    </tr>\n",
              "    <tr>\n",
              "      <td>12</td>\n",
              "      <td>0.702800</td>\n",
              "    </tr>\n",
              "    <tr>\n",
              "      <td>13</td>\n",
              "      <td>0.677700</td>\n",
              "    </tr>\n",
              "    <tr>\n",
              "      <td>14</td>\n",
              "      <td>0.177700</td>\n",
              "    </tr>\n",
              "    <tr>\n",
              "      <td>15</td>\n",
              "      <td>0.674800</td>\n",
              "    </tr>\n",
              "    <tr>\n",
              "      <td>16</td>\n",
              "      <td>0.722700</td>\n",
              "    </tr>\n",
              "    <tr>\n",
              "      <td>17</td>\n",
              "      <td>0.691300</td>\n",
              "    </tr>\n",
              "    <tr>\n",
              "      <td>18</td>\n",
              "      <td>0.691000</td>\n",
              "    </tr>\n",
              "    <tr>\n",
              "      <td>19</td>\n",
              "      <td>0.697500</td>\n",
              "    </tr>\n",
              "    <tr>\n",
              "      <td>20</td>\n",
              "      <td>0.717400</td>\n",
              "    </tr>\n",
              "    <tr>\n",
              "      <td>21</td>\n",
              "      <td>0.164000</td>\n",
              "    </tr>\n",
              "    <tr>\n",
              "      <td>22</td>\n",
              "      <td>0.702100</td>\n",
              "    </tr>\n",
              "    <tr>\n",
              "      <td>23</td>\n",
              "      <td>0.716300</td>\n",
              "    </tr>\n",
              "    <tr>\n",
              "      <td>24</td>\n",
              "      <td>0.681500</td>\n",
              "    </tr>\n",
              "    <tr>\n",
              "      <td>25</td>\n",
              "      <td>0.721200</td>\n",
              "    </tr>\n",
              "    <tr>\n",
              "      <td>26</td>\n",
              "      <td>0.684200</td>\n",
              "    </tr>\n",
              "    <tr>\n",
              "      <td>27</td>\n",
              "      <td>0.695900</td>\n",
              "    </tr>\n",
              "    <tr>\n",
              "      <td>28</td>\n",
              "      <td>0.166000</td>\n",
              "    </tr>\n",
              "    <tr>\n",
              "      <td>29</td>\n",
              "      <td>0.673000</td>\n",
              "    </tr>\n",
              "    <tr>\n",
              "      <td>30</td>\n",
              "      <td>0.706500</td>\n",
              "    </tr>\n",
              "    <tr>\n",
              "      <td>31</td>\n",
              "      <td>0.713600</td>\n",
              "    </tr>\n",
              "    <tr>\n",
              "      <td>32</td>\n",
              "      <td>0.708300</td>\n",
              "    </tr>\n",
              "    <tr>\n",
              "      <td>33</td>\n",
              "      <td>0.707200</td>\n",
              "    </tr>\n",
              "    <tr>\n",
              "      <td>34</td>\n",
              "      <td>0.686000</td>\n",
              "    </tr>\n",
              "    <tr>\n",
              "      <td>35</td>\n",
              "      <td>0.179400</td>\n",
              "    </tr>\n",
              "  </tbody>\n",
              "</table><p>"
            ],
            "text/plain": [
              "<IPython.core.display.HTML object>"
            ]
          },
          "metadata": {},
          "output_type": "display_data"
        },
        {
          "name": "stderr",
          "output_type": "stream",
          "text": [
            "Using the `WANDB_DISABLED` environment variable is deprecated and will be removed in v5. Use the --report_to flag to control the integrations used for logging result (for instance --report_to none).\n"
          ]
        },
        {
          "data": {
            "text/plain": [
              "TrainOutput(global_step=35, training_loss=0.6217447446925299, metrics={'train_runtime': 425.923, 'train_samples_per_second': 0.587, 'train_steps_per_second': 0.082, 'total_flos': 0.0, 'train_loss': 0.6217447446925299, 'epoch': 5.0})"
            ]
          },
          "execution_count": 9,
          "metadata": {},
          "output_type": "execute_result"
        }
      ],
      "source": [
        "from trl import DPOConfig, DPOTrainer\n",
        "\n",
        "training_args = DPOConfig(\n",
        "  output_dir=model_name,\n",
        "  logging_steps=1,\n",
        "  logging_strategy=\"steps\",\n",
        "  num_train_epochs=5,\n",
        "  report_to=None,\n",
        "\n",
        "  per_device_train_batch_size=1,          # Minimize batch size\n",
        "  gradient_accumulation_steps=8,          # Accumulate to simulate larger batch\n",
        "  bf16=True,                              # Or fp16=True depending on GPU support\n",
        ")\n",
        "\n",
        "trainer = DPOTrainer(\n",
        "  model=model,\n",
        "  args=training_args,\n",
        "  processing_class=tokenizer,\n",
        "  train_dataset=dataset\n",
        ")\n",
        "trainer.train()"
      ]
    },
    {
      "cell_type": "code",
      "execution_count": 13,
      "metadata": {
        "colab": {
          "base_uri": "https://localhost:8080/",
          "height": 472
        },
        "id": "lM6W62Vxb3Mu",
        "outputId": "d39b4d0a-018a-4b86-fa3c-fa04f6fb7ddc"
      },
      "outputs": [
        {
          "data": {
            "image/png": "[encoded data removed]",
            "text/plain": [
              "<Figure size 640x480 with 1 Axes>"
            ]
          },
          "metadata": {},
          "output_type": "display_data"
        }
      ],
      "source": [
        "import json\n",
        "import matplotlib.pyplot as plt\n",
        "\n",
        "json_trainer_path = \"/content/Qwen/Qwen2-0.5B-Instruct/checkpoint-35/trainer_state.json\"#\"/content/EleutherAI/gpt-neo-125m/checkpoint-35/trainer_state.json\"\n",
        "logs = json.load(open(json_trainer_path, \"r\"))\n",
        "\n",
        "losses = [entry[\"loss\"] for entry in logs[\"log_history\"] if \"loss\" in entry]\n",
        "steps = list(range(len(losses)))\n",
        "\n",
        "plt.plot(steps, losses,\"-o\")\n",
        "plt.xlabel(\"Step\")\n",
        "plt.ylabel(\"Training Loss\")\n",
        "plt.title(\"SFT Training Loss (trl.SFTTrainer)\")\n",
        "plt.grid()\n",
        "plt.show()"
      ]
    },
    {
      "cell_type": "code",
      "execution_count": 14,
      "metadata": {
        "colab": {
          "base_uri": "https://localhost:8080/"
        },
        "id": "gHsk3zwnjJHt",
        "outputId": "de4957c3-2419-484a-fee3-8dd9f2f6f76d"
      },
      "outputs": [
        {
          "name": "stdout",
          "output_type": "stream",
          "text": [
            "system\n",
            "You are a helpful assistant.\n",
            "user\n",
            "Use the pygame library to write a version of the classic game Snake, with a unique twist\n",
            "assistant\n",
            "Sure, I'd be happy to help you write a version of the classic game Snake using the pygame library! Here's a basic outline of how we can approach this:\n",
            "\n",
            "1. First, we'll need to set up the game display and create a game object that we can use to handle the game's state.\n",
            "2. Next, we'll create the game's grid, which will be used to represent the game board. We'll need to define the size of the grid and the spaces within it.\n",
            "3. After that, we'll create the snake object, which will be used to represent the player's movement. We'll need to define the size of the snake and the speed at which it moves.\n",
            "4. We'll also need to create a food object, which will be used to represent the food that the player must collect to score points. We'll need to define the location of the food and the speed at which it moves.\n",
            "5. Once we have these objects set up, we can start handling the game's logic. We'll need to define the rules for the player's movements, such as how the player can move the snake and how the snake will grow as the player collects more food.\n",
            "6. We'll also need to add collisions detection to the game, so that the snake and the food can collide with each other.\n",
            "7. Finally, we'll need to add a user interface to the game, such as a menu and a scoreboard.\n",
            "\n",
            "Now, as for the unique twist, we could add a few features to make the game more interesting. For example, we could add power-ups that give the player special abilities, such as the ability to grow the snake faster or to change its direction. We could also add obstacles, such as walls or pits, that the player must avoid.\n",
            "\n",
            "Here's some sample code to get us started:\n",
            "```\n",
            "import pygame\n",
            "\n",
            "# Initialize pygame\n",
            "pygame.init()\n",
            "\n",
            "# Set up the game display\n",
            "width = 800\n",
            "height = 600\n",
            "screen = pygame.display.set_mode((width, height))\n",
            "\n",
            "# Define the colors\n",
            "WHITE = (255, 255, 255)\n",
            "BLACK = (0, 0, 0)\n",
            "GREEN = (0, 255, 0)\n",
            "\n",
            "# Define the game objects\n",
            "snake = pygame.Rect(50, 50, 10, 10)\n",
            "food = pygame.Rect(100, 100, 10, 10)\n",
            "\n",
            "# Define the game logic\n",
            "def update_snake():\n",
            "    # Get the mouse position\n",
            "    mouse_pos = pygame.mouse.get_pos()\n",
            "\n",
            "    # Move the snake based on the mouse position\n",
            "    if mouse_pos[0] > snake.x:\n",
            "        snake.x += 10\n",
            "    elif mouse_pos[0] < snake.x:\n",
            "        snake.x -= 10\n",
            "    elif mouse_pos[1] > snake.y:\n",
            "        snake.y += 10\n",
            "    elif mouse_pos[1] < snake.y:\n",
            "        snake.y -= 10\n",
            "\n",
            "    # Update the snake's size\n",
            "    if snake.x == food.x and snake.y == food.y:\n",
            "        snake.width += 10\n",
            "        snake.height += 10\n",
            "\n",
            "# Define the game loop\n",
            "def game_loop():\n",
            "    # Clear the screen\n",
            "    screen.fill(BLACK)\n",
            "\n",
            "    # Update the game objects\n",
            "    update_snake()\n",
            "\n",
            "    # Draw the game objects\n",
            "    screen.fill(WHITE)\n",
            "    screen.draw.rect(snake, GREEN)\n",
            "    screen.draw.rect(food, BLACK)\n",
            "\n",
            "    # Update the display\n",
            "    pygame.display.flip()\n",
            "\n",
            "# Start the game loop\n",
            "game_loop()\n",
            "\n",
            "# Run the game\n",
            "while True:\n",
            "    for event in pygame.event.get():\n",
            "        if event.type == pygame.QUIT:\n",
            "            pygame.quit()\n",
            "            break\n",
            "\n",
            "    pygame.time.Clock().tick(60)\n",
            "```\n",
            "This code sets up a basic game display, defines the snake and food objects, and updates the game state based on the player's movements. We've also added a simple user interface and some basic collision detection.\n",
            "\n",
            "As for the unique twist, we could add a few features to make the game\n",
            "assistant\n",
            "One idea is to add an obstacle system that the player must avoid when collecting food. The obstacle could\n"
          ]
        }
      ],
      "source": [
        "for item in dataset.select(range(1)):\n",
        "    full_prompt = tokenizer.apply_chat_template(\n",
        "      item[\"chosen\"],\n",
        "      tokenize=False,\n",
        "      add_generation_prompt=True  # important to add assistant's turn\n",
        "    )\n",
        "    inputs = tokenizer(full_prompt, return_tensors=\"pt\").to(device)\n",
        "    outputs = model.generate(**inputs, max_new_tokens=20, eos_token_id=tokenizer.eos_token_id,)\n",
        "    print(tokenizer.decode(outputs[0], skip_special_tokens=True))"
      ]
    }
  ],
  "metadata": {
    "accelerator": "GPU",
    "colab": {
      "gpuType": "T4",
      "provenance": [],
      "toc_visible": true
    },
    "kernelspec": {
      "display_name": "Python 3",
      "name": "python3"
    },
    "language_info": {
      "name": "python"
    }
  },
  "nbformat": 4,
  "nbformat_minor": 0
}
