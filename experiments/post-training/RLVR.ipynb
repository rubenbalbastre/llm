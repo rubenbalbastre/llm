{
 "cells": [
  {
   "cell_type": "markdown",
   "metadata": {
    "id": "V3Atu4zmNrD6"
   },
   "source": [
    "# Reinforcement Learning from Verifiable Rewards (RLVR)"
   ]
  },
  {
   "cell_type": "code",
   "execution_count": 1,
   "metadata": {
    "colab": {
     "base_uri": "https://localhost:8080/"
    },
    "id": "LRlL4n92M1Af",
    "outputId": "7ddf3654-9b3e-410c-8c10-43f0f0a3ddad"
   },
   "outputs": [
    {
     "name": "stdout",
     "output_type": "stream",
     "text": [
      "Requirement already satisfied: transformers in /usr/local/lib/python3.11/dist-packages (4.54.1)\n",
      "Requirement already satisfied: accelerate in /usr/local/lib/python3.11/dist-packages (1.9.0)\n",
      "Requirement already satisfied: datasets in /usr/local/lib/python3.11/dist-packages (4.0.0)\n",
      "Requirement already satisfied: trl in /usr/local/lib/python3.11/dist-packages (0.20.0)\n",
      "Requirement already satisfied: filelock in /usr/local/lib/python3.11/dist-packages (from transformers) (3.18.0)\n",
      "Requirement already satisfied: huggingface-hub<1.0,>=0.34.0 in /usr/local/lib/python3.11/dist-packages (from transformers) (0.34.3)\n",
      "Requirement already satisfied: numpy>=1.17 in /usr/local/lib/python3.11/dist-packages (from transformers) (2.0.2)\n",
      "Requirement already satisfied: packaging>=20.0 in /usr/local/lib/python3.11/dist-packages (from transformers) (25.0)\n",
      "Requirement already satisfied: pyyaml>=5.1 in /usr/local/lib/python3.11/dist-packages (from transformers) (6.0.2)\n",
      "Requirement already satisfied: regex!=2019.12.17 in /usr/local/lib/python3.11/dist-packages (from transformers) (2024.11.6)\n",
      "Requirement already satisfied: requests in /usr/local/lib/python3.11/dist-packages (from transformers) (2.32.3)\n",
      "Requirement already satisfied: tokenizers<0.22,>=0.21 in /usr/local/lib/python3.11/dist-packages (from transformers) (0.21.4)\n",
      "Requirement already satisfied: safetensors>=0.4.3 in /usr/local/lib/python3.11/dist-packages (from transformers) (0.5.3)\n",
      "Requirement already satisfied: tqdm>=4.27 in /usr/local/lib/python3.11/dist-packages (from transformers) (4.67.1)\n",
      "Requirement already satisfied: psutil in /usr/local/lib/python3.11/dist-packages (from accelerate) (5.9.5)\n",
      "Requirement already satisfied: torch>=2.0.0 in /usr/local/lib/python3.11/dist-packages (from accelerate) (2.6.0+cu124)\n",
      "Requirement already satisfied: pyarrow>=15.0.0 in /usr/local/lib/python3.11/dist-packages (from datasets) (18.1.0)\n",
      "Requirement already satisfied: dill<0.3.9,>=0.3.0 in /usr/local/lib/python3.11/dist-packages (from datasets) (0.3.8)\n",
      "Requirement already satisfied: pandas in /usr/local/lib/python3.11/dist-packages (from datasets) (2.2.2)\n",
      "Requirement already satisfied: xxhash in /usr/local/lib/python3.11/dist-packages (from datasets) (3.5.0)\n",
      "Requirement already satisfied: multiprocess<0.70.17 in /usr/local/lib/python3.11/dist-packages (from datasets) (0.70.16)\n",
      "Requirement already satisfied: fsspec<=2025.3.0,>=2023.1.0 in /usr/local/lib/python3.11/dist-packages (from fsspec[http]<=2025.3.0,>=2023.1.0->datasets) (2025.3.0)\n",
      "Requirement already satisfied: aiohttp!=4.0.0a0,!=4.0.0a1 in /usr/local/lib/python3.11/dist-packages (from fsspec[http]<=2025.3.0,>=2023.1.0->datasets) (3.12.15)\n",
      "Requirement already satisfied: typing-extensions>=3.7.4.3 in /usr/local/lib/python3.11/dist-packages (from huggingface-hub<1.0,>=0.34.0->transformers) (4.14.1)\n",
      "Requirement already satisfied: hf-xet<2.0.0,>=1.1.3 in /usr/local/lib/python3.11/dist-packages (from huggingface-hub<1.0,>=0.34.0->transformers) (1.1.5)\n",
      "Requirement already satisfied: charset-normalizer<4,>=2 in /usr/local/lib/python3.11/dist-packages (from requests->transformers) (3.4.2)\n",
      "Requirement already satisfied: idna<4,>=2.5 in /usr/local/lib/python3.11/dist-packages (from requests->transformers) (3.10)\n",
      "Requirement already satisfied: urllib3<3,>=1.21.1 in /usr/local/lib/python3.11/dist-packages (from requests->transformers) (2.5.0)\n",
      "Requirement already satisfied: certifi>=2017.4.17 in /usr/local/lib/python3.11/dist-packages (from requests->transformers) (2025.7.14)\n",
      "Requirement already satisfied: networkx in /usr/local/lib/python3.11/dist-packages (from torch>=2.0.0->accelerate) (3.5)\n",
      "Requirement already satisfied: jinja2 in /usr/local/lib/python3.11/dist-packages (from torch>=2.0.0->accelerate) (3.1.6)\n",
      "Requirement already satisfied: nvidia-cuda-nvrtc-cu12==12.4.127 in /usr/local/lib/python3.11/dist-packages (from torch>=2.0.0->accelerate) (12.4.127)\n",
      "Requirement already satisfied: nvidia-cuda-runtime-cu12==12.4.127 in /usr/local/lib/python3.11/dist-packages (from torch>=2.0.0->accelerate) (12.4.127)\n",
      "Requirement already satisfied: nvidia-cuda-cupti-cu12==12.4.127 in /usr/local/lib/python3.11/dist-packages (from torch>=2.0.0->accelerate) (12.4.127)\n",
      "Requirement already satisfied: nvidia-cudnn-cu12==9.1.0.70 in /usr/local/lib/python3.11/dist-packages (from torch>=2.0.0->accelerate) (9.1.0.70)\n",
      "Requirement already satisfied: nvidia-cublas-cu12==12.4.5.8 in /usr/local/lib/python3.11/dist-packages (from torch>=2.0.0->accelerate) (12.4.5.8)\n",
      "Requirement already satisfied: nvidia-cufft-cu12==11.2.1.3 in /usr/local/lib/python3.11/dist-packages (from torch>=2.0.0->accelerate) (11.2.1.3)\n",
      "Requirement already satisfied: nvidia-curand-cu12==10.3.5.147 in /usr/local/lib/python3.11/dist-packages (from torch>=2.0.0->accelerate) (10.3.5.147)\n",
      "Requirement already satisfied: nvidia-cusolver-cu12==11.6.1.9 in /usr/local/lib/python3.11/dist-packages (from torch>=2.0.0->accelerate) (11.6.1.9)\n",
      "Requirement already satisfied: nvidia-cusparse-cu12==12.3.1.170 in /usr/local/lib/python3.11/dist-packages (from torch>=2.0.0->accelerate) (12.3.1.170)\n",
      "Requirement already satisfied: nvidia-cusparselt-cu12==0.6.2 in /usr/local/lib/python3.11/dist-packages (from torch>=2.0.0->accelerate) (0.6.2)\n",
      "Requirement already satisfied: nvidia-nccl-cu12==2.21.5 in /usr/local/lib/python3.11/dist-packages (from torch>=2.0.0->accelerate) (2.21.5)\n",
      "Requirement already satisfied: nvidia-nvtx-cu12==12.4.127 in /usr/local/lib/python3.11/dist-packages (from torch>=2.0.0->accelerate) (12.4.127)\n",
      "Requirement already satisfied: nvidia-nvjitlink-cu12==12.4.127 in /usr/local/lib/python3.11/dist-packages (from torch>=2.0.0->accelerate) (12.4.127)\n",
      "Requirement already satisfied: triton==3.2.0 in /usr/local/lib/python3.11/dist-packages (from torch>=2.0.0->accelerate) (3.2.0)\n",
      "Requirement already satisfied: sympy==1.13.1 in /usr/local/lib/python3.11/dist-packages (from torch>=2.0.0->accelerate) (1.13.1)\n",
      "Requirement already satisfied: mpmath<1.4,>=1.1.0 in /usr/local/lib/python3.11/dist-packages (from sympy==1.13.1->torch>=2.0.0->accelerate) (1.3.0)\n",
      "Requirement already satisfied: python-dateutil>=2.8.2 in /usr/local/lib/python3.11/dist-packages (from pandas->datasets) (2.9.0.post0)\n",
      "Requirement already satisfied: pytz>=2020.1 in /usr/local/lib/python3.11/dist-packages (from pandas->datasets) (2025.2)\n",
      "Requirement already satisfied: tzdata>=2022.7 in /usr/local/lib/python3.11/dist-packages (from pandas->datasets) (2025.2)\n",
      "Requirement already satisfied: aiohappyeyeballs>=2.5.0 in /usr/local/lib/python3.11/dist-packages (from aiohttp!=4.0.0a0,!=4.0.0a1->fsspec[http]<=2025.3.0,>=2023.1.0->datasets) (2.6.1)\n",
      "Requirement already satisfied: aiosignal>=1.4.0 in /usr/local/lib/python3.11/dist-packages (from aiohttp!=4.0.0a0,!=4.0.0a1->fsspec[http]<=2025.3.0,>=2023.1.0->datasets) (1.4.0)\n",
      "Requirement already satisfied: attrs>=17.3.0 in /usr/local/lib/python3.11/dist-packages (from aiohttp!=4.0.0a0,!=4.0.0a1->fsspec[http]<=2025.3.0,>=2023.1.0->datasets) (25.3.0)\n",
      "Requirement already satisfied: frozenlist>=1.1.1 in /usr/local/lib/python3.11/dist-packages (from aiohttp!=4.0.0a0,!=4.0.0a1->fsspec[http]<=2025.3.0,>=2023.1.0->datasets) (1.7.0)\n",
      "Requirement already satisfied: multidict<7.0,>=4.5 in /usr/local/lib/python3.11/dist-packages (from aiohttp!=4.0.0a0,!=4.0.0a1->fsspec[http]<=2025.3.0,>=2023.1.0->datasets) (6.6.3)\n",
      "Requirement already satisfied: propcache>=0.2.0 in /usr/local/lib/python3.11/dist-packages (from aiohttp!=4.0.0a0,!=4.0.0a1->fsspec[http]<=2025.3.0,>=2023.1.0->datasets) (0.3.2)\n",
      "Requirement already satisfied: yarl<2.0,>=1.17.0 in /usr/local/lib/python3.11/dist-packages (from aiohttp!=4.0.0a0,!=4.0.0a1->fsspec[http]<=2025.3.0,>=2023.1.0->datasets) (1.20.1)\n",
      "Requirement already satisfied: six>=1.5 in /usr/local/lib/python3.11/dist-packages (from python-dateutil>=2.8.2->pandas->datasets) (1.17.0)\n",
      "Requirement already satisfied: MarkupSafe>=2.0 in /usr/local/lib/python3.11/dist-packages (from jinja2->torch>=2.0.0->accelerate) (3.0.2)\n"
     ]
    }
   ],
   "source": [
    "pip install transformers accelerate datasets trl\n"
   ]
  },
  {
   "cell_type": "markdown",
   "metadata": {
    "id": "7ss-C3q5NK77"
   },
   "source": [
    "# Load Model"
   ]
  },
  {
   "cell_type": "code",
   "execution_count": 2,
   "metadata": {
    "id": "oW8-kYk5S17a"
   },
   "outputs": [],
   "source": [
    "!rm -rf /content/Qwen/ #!rm -rf /content/EleutherAI/"
   ]
  },
  {
   "cell_type": "code",
   "execution_count": 3,
   "metadata": {
    "id": "HqeTnk6UMP6l"
   },
   "outputs": [],
   "source": [
    "import torch\n",
    "\n",
    "device = \"cuda\" if torch.cuda.is_available() else \"cpu\"\n",
    "\n",
    "import os\n",
    "os.environ[\"WANDB_DISABLED\"] = \"True\""
   ]
  },
  {
   "cell_type": "code",
   "execution_count": 4,
   "metadata": {
    "id": "a7WJ824fNMTE"
   },
   "outputs": [],
   "source": [
    "from transformers import AutoTokenizer, AutoModelForCausalLM\n",
    "from trl import AutoModelForCausalLMWithValueHead, create_reference_model\n",
    "from peft import LoraConfig, get_peft_model\n",
    "\n",
    "model_name = \"Qwen/Qwen2-0.5B-Instruct\"\n",
    "\n",
    "tokenizer = AutoTokenizer.from_pretrained(model_name)\n",
    "tokenizer.pad_token = tokenizer.eos_token\n",
    "\n",
    "model = AutoModelForCausalLM.from_pretrained(model_name).to(device)\n",
    "ref_model = create_reference_model(model).to(device)\n",
    "\n",
    "lora_config = LoraConfig(\n",
    "    r=4,\n",
    "    lora_alpha=16,\n",
    "    lora_dropout=0.05,\n",
    "    bias=\"none\",\n",
    "    task_type=\"CAUSAL_LM\",\n",
    "    target_modules=[\"q_proj\", \"v_proj\"]\n",
    ")\n",
    "\n",
    "value_model = AutoModelForCausalLMWithValueHead(model).to(device)\n",
    "value_model.eval()\n",
    "value_model.base_model_prefix = model.base_model_prefix\n",
    "value_model.model = value_model.pretrained_model\n",
    "\n",
    "model = get_peft_model(model, lora_config)"
   ]
  },
  {
   "cell_type": "code",
   "execution_count": 5,
   "metadata": {
    "colab": {
     "base_uri": "https://localhost:8080/"
    },
    "id": "o2FIOVHGUBf8",
    "outputId": "442e7ac4-aed5-4a25-f727-37f20c3b5d1f"
   },
   "outputs": [
    {
     "name": "stdout",
     "output_type": "stream",
     "text": [
      "trainable params: 270,336 || all params: 494,303,104 || trainable%: 0.0547\n",
      "None\n"
     ]
    }
   ],
   "source": [
    "print(model.print_trainable_parameters())"
   ]
  },
  {
   "cell_type": "markdown",
   "metadata": {
    "id": "IuTAe_thNO5Z"
   },
   "source": [
    "# Dataset"
   ]
  },
  {
   "cell_type": "code",
   "execution_count": 6,
   "metadata": {
    "colab": {
     "base_uri": "https://localhost:8080/"
    },
    "id": "CwovDrniNTEp",
    "outputId": "4a4413d4-e5a1-474c-892b-49e802440e2d"
   },
   "outputs": [
    {
     "data": {
      "text/plain": [
       "{'input_ids': [45764, 2494, 11657, 25],\n",
       " 'attention_mask': [1, 1, 1, 1],\n",
       " 'prompt': 'Say something friendly:'}"
      ]
     },
     "execution_count": 6,
     "metadata": {},
     "output_type": "execute_result"
    }
   ],
   "source": [
    "from datasets import Dataset\n",
    "\n",
    "prompts = [\"Say something friendly:\" for _ in range(8)]\n",
    "prompts = {\"prompt\": prompts}\n",
    "\n",
    "list_dataset = []\n",
    "for p in prompts[\"prompt\"]:\n",
    "    d = tokenizer(p, return_tensors=\"pt\", padding=True, truncation=True)\n",
    "    list_dataset.append({\n",
    "        \"input_ids\": d[\"input_ids\"][0],\n",
    "        \"attention_mask\": d[\"attention_mask\"][0],\n",
    "        \"prompt\": p\n",
    "    })\n",
    "\n",
    "dataset = Dataset.from_list(list_dataset)\n",
    "\n",
    "dataset[0]"
   ]
  },
  {
   "cell_type": "markdown",
   "metadata": {
    "id": "jzkDVIkxc2mI"
   },
   "source": [
    "# GRPO"
   ]
  },
  {
   "cell_type": "code",
   "execution_count": 7,
   "metadata": {
    "id": "rMrdejHBc35S"
   },
   "outputs": [],
   "source": [
    "import torch\n",
    "import torch.nn.functional as F\n",
    "\n",
    "def score(self, hidden_states):\n",
    "    # Get the logits from the hidden states\n",
    "    if hasattr(self, \"lm_head\"):\n",
    "        logits = self.lm_head(hidden_states)\n",
    "    else:\n",
    "        # For models that don't have a separate lm_head\n",
    "        logits = self.model.lm_head(hidden_states)\n",
    "\n",
    "    # Calculate the log probabilities\n",
    "    logits = logits[:, :-1, :]\n",
    "    log_probs = F.log_softmax(logits, dim=-1)\n",
    "    return log_probs\n",
    "\n",
    "# Patch the method into your model\n",
    "from types import MethodType\n",
    "model.score = MethodType(score, model)\n",
    "value_model.score = MethodType(score, value_model)\n",
    "ref_model.score = MethodType(score, ref_model)\n",
    "value_model.is_peft_model = False"
   ]
  },
  {
   "cell_type": "code",
   "execution_count": 8,
   "metadata": {
    "colab": {
     "base_uri": "https://localhost:8080/"
    },
    "id": "yzKIiWJBPe_x",
    "outputId": "9d91693f-3a94-423c-da22-dae35597a665"
   },
   "outputs": [
    {
     "name": "stderr",
     "output_type": "stream",
     "text": [
      "Using the `WANDB_DISABLED` environment variable is deprecated and will be removed in v5. Use the --report_to flag to control the integrations used for logging result (for instance --report_to none).\n",
      "Using the `WANDB_DISABLED` environment variable is deprecated and will be removed in v5. Use the --report_to flag to control the integrations used for logging result (for instance --report_to none).\n",
      "Using the `WANDB_DISABLED` environment variable is deprecated and will be removed in v5. Use the --report_to flag to control the integrations used for logging result (for instance --report_to none).\n",
      "No label_names provided for model class `PeftModelForCausalLM`. Since `PeftModel` hides base models input arguments, if label_names is not given, label_names can't be set automatically within `Trainer`. Note that empty label_names list will be used instead.\n"
     ]
    }
   ],
   "source": [
    "# from trl.rewards import think_format_reward\n",
    "import re\n",
    "\n",
    "def think_format_reward(completions, **kwargs):\n",
    "    \"\"\"\n",
    "    Reward function that rewards completions that follow the format \"<think>...</think>\".\n",
    "    \"\"\"\n",
    "    pattern = r\"^<think>(?!.*<think>)(.*?)</think>.*$\"\n",
    "    # The completions are strings, not dictionaries, so we can use them directly.\n",
    "    matches = [re.match(pattern, content, re.DOTALL | re.MULTILINE) for content in completions]\n",
    "    return [1.0 if match else 0.0 for match in matches]\n",
    "\n",
    "\n",
    "from trl import GRPOConfig, GRPOTrainer\n",
    "import torch\n",
    "import random\n",
    "\n",
    "grpo_config = GRPOConfig(\n",
    "    output_dir=model_name\n",
    ")\n",
    "\n",
    "grpo_trainer = GRPOTrainer(\n",
    "    args=grpo_config,\n",
    "    model=model,\n",
    "    processing_class=tokenizer,\n",
    "    train_dataset=dataset,\n",
    "    reward_funcs=think_format_reward\n",
    ")\n"
   ]
  },
  {
   "cell_type": "code",
   "execution_count": 9,
   "metadata": {
    "colab": {
     "base_uri": "https://localhost:8080/",
     "height": 210
    },
    "id": "SFsK6_u7P76a",
    "outputId": "4ff8f46c-2222-4c32-b0dd-b20b033e1df8"
   },
   "outputs": [
    {
     "data": {
      "text/html": [
       "\n",
       "    <div>\n",
       "      \n",
       "      <progress value='24' max='24' style='width:300px; height:20px; vertical-align: middle;'></progress>\n",
       "      [24/24 05:38, Epoch 3/3]\n",
       "    </div>\n",
       "    <table border=\"1\" class=\"dataframe\">\n",
       "  <thead>\n",
       " <tr style=\"text-align: left;\">\n",
       "      <th>Step</th>\n",
       "      <th>Training Loss</th>\n",
       "    </tr>\n",
       "  </thead>\n",
       "  <tbody>\n",
       "    <tr>\n",
       "      <td>10</td>\n",
       "      <td>0.000000</td>\n",
       "    </tr>\n",
       "    <tr>\n",
       "      <td>20</td>\n",
       "      <td>0.000000</td>\n",
       "    </tr>\n",
       "  </tbody>\n",
       "</table><p>"
      ],
      "text/plain": [
       "<IPython.core.display.HTML object>"
      ]
     },
     "metadata": {},
     "output_type": "display_data"
    },
    {
     "name": "stderr",
     "output_type": "stream",
     "text": [
      "Using the `WANDB_DISABLED` environment variable is deprecated and will be removed in v5. Use the --report_to flag to control the integrations used for logging result (for instance --report_to none).\n"
     ]
    },
    {
     "data": {
      "text/plain": [
       "TrainOutput(global_step=24, training_loss=0.0, metrics={'train_runtime': 362.7033, 'train_samples_per_second': 0.066, 'train_steps_per_second': 0.066, 'total_flos': 0.0, 'train_loss': 0.0})"
      ]
     },
     "execution_count": 9,
     "metadata": {},
     "output_type": "execute_result"
    }
   ],
   "source": [
    "grpo_trainer.train()"
   ]
  },
  {
   "cell_type": "markdown",
   "metadata": {
    "id": "LnpojmfcNYwS"
   },
   "source": [
    "# PPO"
   ]
  },
  {
   "cell_type": "code",
   "execution_count": 6,
   "metadata": {
    "id": "whD-73aDZo33"
   },
   "outputs": [],
   "source": [
    "import torch\n",
    "import torch.nn.functional as F\n",
    "\n",
    "\n",
    "def score(self, hidden_states):\n",
    "    # Get the logits from the hidden states\n",
    "    if hasattr(self, \"lm_head\"):\n",
    "        logits = self.lm_head(hidden_states)\n",
    "    else:\n",
    "        # For models that don't have a separate lm_head\n",
    "        logits = self.model.lm_head(hidden_states)\n",
    "\n",
    "    # Calculate the log probabilities\n",
    "    logits = logits[:, :-1, :]\n",
    "    log_probs = F.log_softmax(logits, dim=-1)\n",
    "    return log_probs\n",
    "\n",
    "# Patch the method into your model\n",
    "from types import MethodType\n",
    "model.score = MethodType(score, model)\n",
    "value_model.score = MethodType(score, value_model)\n",
    "ref_model.score = MethodType(score, ref_model)\n",
    "value_model.is_peft_model = False"
   ]
  },
  {
   "cell_type": "code",
   "execution_count": 14,
   "metadata": {
    "id": "tZlHYdguMoSR"
   },
   "outputs": [],
   "source": [
    "from trl.rewards import think_format_reward\n",
    "\n",
    "class RewardModelModel(torch.nn.Module):\n",
    "\n",
    "  def forward(self, completitions):\n",
    "    return think_format_reward(completitions)\n",
    "\n",
    "class RewardModel(torch.nn.Module):\n",
    "  base_model_prefix = \"model\"\n",
    "  model = RewardModelModel()\n",
    "\n",
    "  def forward(self, completitions):\n",
    "    return self.model(completitions)\n",
    "\n",
    "reward_model = RewardModel()\n"
   ]
  },
  {
   "cell_type": "code",
   "execution_count": 9,
   "metadata": {
    "colab": {
     "base_uri": "https://localhost:8080/"
    },
    "id": "WeLpHqZfNJCP",
    "outputId": "5484f6d5-8c83-438d-8e42-be15357c619f"
   },
   "outputs": [
    {
     "name": "stderr",
     "output_type": "stream",
     "text": [
      "Using the `WANDB_DISABLED` environment variable is deprecated and will be removed in v5. Use the --report_to flag to control the integrations used for logging result (for instance --report_to none).\n",
      "Using the `WANDB_DISABLED` environment variable is deprecated and will be removed in v5. Use the --report_to flag to control the integrations used for logging result (for instance --report_to none).\n"
     ]
    }
   ],
   "source": [
    "from trl import PPOTrainer, PPOConfig\n",
    "import torch\n",
    "import random\n",
    "\n",
    "ppo_config = PPOConfig(\n",
    "    output_dir=model_name,\n",
    "    learning_rate=1e-5,\n",
    "    batch_size=1,\n",
    "    # batch_size=1,\n",
    "    # num_train_epochs=3,\n",
    "    # logging_steps=1,\n",
    "    # mini_batch_size=1,\n",
    "    report_to=None  # set to \"wandb\" if you want logging\n",
    ")\n",
    "\n",
    "ppo_trainer = PPOTrainer(\n",
    "    args=ppo_config,\n",
    "    model=model,\n",
    "    ref_model=ref_model,\n",
    "    processing_class=tokenizer,\n",
    "    train_dataset=dataset,\n",
    "    reward_model=reward_model,\n",
    "    value_model=value_model\n",
    ")\n"
   ]
  },
  {
   "cell_type": "code",
   "execution_count": 10,
   "metadata": {
    "colab": {
     "base_uri": "https://localhost:8080/",
     "height": 668
    },
    "id": "hj7i0rt3LWDH",
    "outputId": "b8812bcc-c311-4be2-badb-fbae1f5644ea"
   },
   "outputs": [
    {
     "name": "stdout",
     "output_type": "stream",
     "text": [
      "===training policy===\n"
     ]
    },
    {
     "ename": "TypeError",
     "evalue": "RewardModelModel.forward() got an unexpected keyword argument 'input_ids'",
     "output_type": "error",
     "traceback": [
      "\u001b[0;31m---------------------------------------------------------------------------\u001b[0m",
      "\u001b[0;31mTypeError\u001b[0m                                 Traceback (most recent call last)",
      "\u001b[0;32m/tmp/ipython-input-1370096731.py\u001b[0m in \u001b[0;36m<cell line: 0>\u001b[0;34m()\u001b[0m\n\u001b[0;32m----> 1\u001b[0;31m \u001b[0mppo_trainer\u001b[0m\u001b[0;34m.\u001b[0m\u001b[0mtrain\u001b[0m\u001b[0;34m(\u001b[0m\u001b[0;34m)\u001b[0m\u001b[0;34m\u001b[0m\u001b[0;34m\u001b[0m\u001b[0m\n\u001b[0m",
      "\u001b[0;32m/usr/local/lib/python3.11/dist-packages/trl/trainer/ppo_trainer.py\u001b[0m in \u001b[0;36mtrain\u001b[0;34m(self)\u001b[0m\n\u001b[1;32m    468\u001b[0m                     )\n\u001b[1;32m    469\u001b[0m                     \u001b[0mvalue\u001b[0m \u001b[0;34m=\u001b[0m \u001b[0mfull_value\u001b[0m\u001b[0;34m[\u001b[0m\u001b[0;34m:\u001b[0m\u001b[0;34m,\u001b[0m \u001b[0mcontext_length\u001b[0m \u001b[0;34m-\u001b[0m \u001b[0;36m1\u001b[0m \u001b[0;34m:\u001b[0m \u001b[0;34m-\u001b[0m\u001b[0;36m1\u001b[0m\u001b[0;34m]\u001b[0m\u001b[0;34m.\u001b[0m\u001b[0msqueeze\u001b[0m\u001b[0;34m(\u001b[0m\u001b[0;34m-\u001b[0m\u001b[0;36m1\u001b[0m\u001b[0;34m)\u001b[0m\u001b[0;34m\u001b[0m\u001b[0;34m\u001b[0m\u001b[0m\n\u001b[0;32m--> 470\u001b[0;31m                     _, score, _ = get_reward(\n\u001b[0m\u001b[1;32m    471\u001b[0m                         \u001b[0mreward_model\u001b[0m\u001b[0;34m,\u001b[0m \u001b[0mpostprocessed_query_response\u001b[0m\u001b[0;34m,\u001b[0m \u001b[0mprocessing_class\u001b[0m\u001b[0;34m.\u001b[0m\u001b[0mpad_token_id\u001b[0m\u001b[0;34m,\u001b[0m \u001b[0mcontext_length\u001b[0m\u001b[0;34m\u001b[0m\u001b[0;34m\u001b[0m\u001b[0m\n\u001b[1;32m    472\u001b[0m                     )\n",
      "\u001b[0;32m/usr/local/lib/python3.11/dist-packages/trl/trainer/utils.py\u001b[0m in \u001b[0;36mget_reward\u001b[0;34m(model, query_responses, pad_token_id, context_length)\u001b[0m\n\u001b[1;32m    926\u001b[0m     \u001b[0mlm_backbone\u001b[0m \u001b[0;34m=\u001b[0m \u001b[0mgetattr\u001b[0m\u001b[0;34m(\u001b[0m\u001b[0mmodel\u001b[0m\u001b[0;34m,\u001b[0m \u001b[0mmodel\u001b[0m\u001b[0;34m.\u001b[0m\u001b[0mbase_model_prefix\u001b[0m\u001b[0;34m)\u001b[0m\u001b[0;34m\u001b[0m\u001b[0;34m\u001b[0m\u001b[0m\n\u001b[1;32m    927\u001b[0m     \u001b[0minput_ids\u001b[0m \u001b[0;34m=\u001b[0m \u001b[0mtorch\u001b[0m\u001b[0;34m.\u001b[0m\u001b[0mmasked_fill\u001b[0m\u001b[0;34m(\u001b[0m\u001b[0mquery_responses\u001b[0m\u001b[0;34m,\u001b[0m \u001b[0;34m~\u001b[0m\u001b[0mattention_mask\u001b[0m\u001b[0;34m,\u001b[0m \u001b[0;36m0\u001b[0m\u001b[0;34m)\u001b[0m\u001b[0;34m\u001b[0m\u001b[0;34m\u001b[0m\u001b[0m\n\u001b[0;32m--> 928\u001b[0;31m     output = lm_backbone(\n\u001b[0m\u001b[1;32m    929\u001b[0m         \u001b[0minput_ids\u001b[0m\u001b[0;34m=\u001b[0m\u001b[0minput_ids\u001b[0m\u001b[0;34m,\u001b[0m\u001b[0;34m\u001b[0m\u001b[0;34m\u001b[0m\u001b[0m\n\u001b[1;32m    930\u001b[0m         \u001b[0mattention_mask\u001b[0m\u001b[0;34m=\u001b[0m\u001b[0mattention_mask\u001b[0m\u001b[0;34m,\u001b[0m\u001b[0;34m\u001b[0m\u001b[0;34m\u001b[0m\u001b[0m\n",
      "\u001b[0;32m/usr/local/lib/python3.11/dist-packages/torch/nn/modules/module.py\u001b[0m in \u001b[0;36m_wrapped_call_impl\u001b[0;34m(self, *args, **kwargs)\u001b[0m\n\u001b[1;32m   1737\u001b[0m             \u001b[0;32mreturn\u001b[0m \u001b[0mself\u001b[0m\u001b[0;34m.\u001b[0m\u001b[0m_compiled_call_impl\u001b[0m\u001b[0;34m(\u001b[0m\u001b[0;34m*\u001b[0m\u001b[0margs\u001b[0m\u001b[0;34m,\u001b[0m \u001b[0;34m**\u001b[0m\u001b[0mkwargs\u001b[0m\u001b[0;34m)\u001b[0m  \u001b[0;31m# type: ignore[misc]\u001b[0m\u001b[0;34m\u001b[0m\u001b[0;34m\u001b[0m\u001b[0m\n\u001b[1;32m   1738\u001b[0m         \u001b[0;32melse\u001b[0m\u001b[0;34m:\u001b[0m\u001b[0;34m\u001b[0m\u001b[0;34m\u001b[0m\u001b[0m\n\u001b[0;32m-> 1739\u001b[0;31m             \u001b[0;32mreturn\u001b[0m \u001b[0mself\u001b[0m\u001b[0;34m.\u001b[0m\u001b[0m_call_impl\u001b[0m\u001b[0;34m(\u001b[0m\u001b[0;34m*\u001b[0m\u001b[0margs\u001b[0m\u001b[0;34m,\u001b[0m \u001b[0;34m**\u001b[0m\u001b[0mkwargs\u001b[0m\u001b[0;34m)\u001b[0m\u001b[0;34m\u001b[0m\u001b[0;34m\u001b[0m\u001b[0m\n\u001b[0m\u001b[1;32m   1740\u001b[0m \u001b[0;34m\u001b[0m\u001b[0m\n\u001b[1;32m   1741\u001b[0m     \u001b[0;31m# torchrec tests the code consistency with the following code\u001b[0m\u001b[0;34m\u001b[0m\u001b[0;34m\u001b[0m\u001b[0m\n",
      "\u001b[0;32m/usr/local/lib/python3.11/dist-packages/torch/nn/modules/module.py\u001b[0m in \u001b[0;36m_call_impl\u001b[0;34m(self, *args, **kwargs)\u001b[0m\n\u001b[1;32m   1748\u001b[0m                 \u001b[0;32mor\u001b[0m \u001b[0m_global_backward_pre_hooks\u001b[0m \u001b[0;32mor\u001b[0m \u001b[0m_global_backward_hooks\u001b[0m\u001b[0;34m\u001b[0m\u001b[0;34m\u001b[0m\u001b[0m\n\u001b[1;32m   1749\u001b[0m                 or _global_forward_hooks or _global_forward_pre_hooks):\n\u001b[0;32m-> 1750\u001b[0;31m             \u001b[0;32mreturn\u001b[0m \u001b[0mforward_call\u001b[0m\u001b[0;34m(\u001b[0m\u001b[0;34m*\u001b[0m\u001b[0margs\u001b[0m\u001b[0;34m,\u001b[0m \u001b[0;34m**\u001b[0m\u001b[0mkwargs\u001b[0m\u001b[0;34m)\u001b[0m\u001b[0;34m\u001b[0m\u001b[0;34m\u001b[0m\u001b[0m\n\u001b[0m\u001b[1;32m   1751\u001b[0m \u001b[0;34m\u001b[0m\u001b[0m\n\u001b[1;32m   1752\u001b[0m         \u001b[0mresult\u001b[0m \u001b[0;34m=\u001b[0m \u001b[0;32mNone\u001b[0m\u001b[0;34m\u001b[0m\u001b[0;34m\u001b[0m\u001b[0m\n",
      "\u001b[0;31mTypeError\u001b[0m: RewardModelModel.forward() got an unexpected keyword argument 'input_ids'"
     ]
    }
   ],
   "source": [
    "ppo_trainer.train()"
   ]
  },
  {
   "cell_type": "code",
   "execution_count": null,
   "metadata": {
    "id": "28185551"
   },
   "outputs": [],
   "source": [
    "# import torch.nn.functional as F\n",
    "# from trl.trainer.utils import first_true_indices\n",
    "\n",
    "# def score(self, hidden_states, input_ids):\n",
    "#     # Get the logits from the hidden states\n",
    "#     if hasattr(self, \"lm_head\"):\n",
    "#         logits = self.lm_head(hidden_states)\n",
    "#     else:\n",
    "#         # For models that don't have a separate lm_head\n",
    "#         logits = self.model.lm_head(hidden_states)\n",
    "\n",
    "#     # Calculate the log probabilities\n",
    "#     logits = logits[:, :-1, :]\n",
    "#     labels = input_ids[:, 1:]\n",
    "#     log_probs = F.log_softmax(logits, dim=-1)\n",
    "\n",
    "#     # Gather log probs of the actual next tokens\n",
    "#     log_probs = torch.gather(log_probs, dim=2, index=labels.unsqueeze(-1)).squeeze(-1)\n",
    "#     return log_probs\n",
    "\n",
    "# def get_reward(model, query_responses, pad_token_id, context_length):\n",
    "#     \"\"\"\n",
    "#     Computes the reward for a given query and response.\n",
    "\n",
    "#     Args:\n",
    "#         model (`nn.Module`): The model to use for reward computation.\n",
    "#         query_responses (`torch.LongTensor`): The query and response tensors.\n",
    "#         pad_token_id (`int`): The pad token id.\n",
    "#         context_length (`int`): The length of the query.\n",
    "\n",
    "#     Returns:\n",
    "#         `torch.FloatTensor`: The reward for the given query and response.\n",
    "#     \"\"\"\n",
    "#     with torch.no_grad():\n",
    "#         output = model(query_responses, output_hidden_states=True)\n",
    "#         # We need to pass both the hidden states and the input_ids to the score function.\n",
    "#         reward_logits = model.score(output.hidden_states[-1], query_responses)\n",
    "#         sequence_lengths = first_true_indices(query_responses[:, context_length:] == pad_token_id) - 1 + context_length\n",
    "#         # https://github.com/huggingface/transformers/blob/dc68a39c8111217683bf49a4912d0c9018bab33d/src/transformers/models/gpt2/modeling_gpt2.py#L1454\n",
    "#         # gpt2's causal lm score is shifted by one layer\n",
    "#         if model.config.model_type == \"gpt2\":\n",
    "#             reward_logits = reward_logits[:, context_length - 1 : -1]\n",
    "#         else:\n",
    "#             reward_logits = reward_logits[:, context_length:]\n",
    "#         return torch.gather(reward_logits, 1, sequence_lengths.unsqueeze(-1)).squeeze(-1)\n",
    "\n",
    "# # Patch the method into your model\n",
    "# from types import MethodType\n",
    "# model.score = MethodType(score, model)\n",
    "# value_model.score = MethodType(score, value_model)\n",
    "# ref_model.score = MethodType(score, ref_model)\n",
    "\n",
    "# ppo_trainer.get_reward = get_reward"
   ]
  },
  {
   "cell_type": "code",
   "execution_count": 8,
   "metadata": {
    "id": "da8d0d53"
   },
   "outputs": [],
   "source": [
    "# import torch.nn.functional as F\n",
    "# from trl.trainer.utils import first_true_indices\n",
    "\n",
    "# def score(self, hidden_states, input_ids):\n",
    "#     # Get the logits from the hidden states\n",
    "#     if hasattr(self, \"lm_head\"):\n",
    "#         logits = self.lm_head(hidden_states)\n",
    "#     else:\n",
    "#         # For models that don't have a separate lm_head\n",
    "#         logits = self.model.lm_head(hidden_states)\n",
    "\n",
    "#     # Calculate the log probabilities\n",
    "#     logits = logits[:, :-1, :]\n",
    "#     labels = input_ids[:, 1:]\n",
    "#     log_probs = F.log_softmax(logits, dim=-1)\n",
    "\n",
    "#     # Gather log probs of the actual next tokens\n",
    "#     log_probs = torch.gather(log_probs, dim=2, index=labels.unsqueeze(-1)).squeeze(-1)\n",
    "#     return log_probs\n",
    "\n",
    "\n",
    "# def get_reward(model, query_responses, pad_token_id, context_length):\n",
    "#     \"\"\"\n",
    "#     Computes the reward for a given query and response.\n",
    "\n",
    "#     Args:\n",
    "#         model (`nn.Module`): The model to use for reward computation.\n",
    "#         query_responses (`torch.LongTensor`): The query and response tensors.\n",
    "#         pad_token_id (`int`): The pad token id.\n",
    "#         context_length (`int`): The length of the query.\n",
    "\n",
    "#     Returns:\n",
    "#         `torch.FloatTensor`: The reward for the given query and response.\n",
    "#     \"\"\"\n",
    "#     attention_mask = query_responses != pad_token_id\n",
    "#     position_ids = attention_mask.cumsum(1) - attention_mask.long()  # exclusive cumsum\n",
    "#     lm_backbone = getattr(model, model.base_model_prefix)\n",
    "#     input_ids = torch.masked_fill(query_responses, ~attention_mask, 0)\n",
    "\n",
    "#     with torch.no_grad():\n",
    "#         output = lm_backbone(\n",
    "#             input_ids=input_ids,\n",
    "#             attention_mask=attention_mask,\n",
    "#             position_ids=position_ids,\n",
    "#             return_dict=True,\n",
    "#             output_hidden_states=True,\n",
    "#             use_cache=False,  # otherwise mistral-based RM would error out\n",
    "#         )\n",
    "#         # We need to pass both the hidden states and the input_ids to the score function.\n",
    "#         reward_logits = model.score(output.hidden_states[-1], query_responses)\n",
    "#         sequence_lengths = first_true_indices(query_responses[:, context_length:] == pad_token_id) - 1 + context_length\n",
    "#         # https://github.com/huggingface/transformers/blob/dc68a39c8111217683bf49a4912d0c9018bab33d/src/transformers/models/gpt2/modeling_gpt2.py#L1454\n",
    "#         # gpt2's causal lm score is shifted by one layer\n",
    "#         if model.config.model_type == \"gpt2\":\n",
    "#             reward_logits = reward_logits[:, context_length - 1 : -1]\n",
    "#         else:\n",
    "#             reward_logits = reward_logits[:, context_length:]\n",
    "#         return torch.gather(reward_logits, 1, sequence_lengths.unsqueeze(-1)).squeeze(-1)\n",
    "\n",
    "# # Patch the method into your model\n",
    "# from types import MethodType\n",
    "# model.score = MethodType(score, model)\n",
    "# value_model.score = MethodType(score, value_model)\n",
    "# ref_model.score = MethodType(score, ref_model)"
   ]
  }
 ],
 "metadata": {
  "accelerator": "GPU",
  "colab": {
   "gpuType": "T4",
   "provenance": []
  },
  "kernelspec": {
   "display_name": ".venv",
   "language": "python",
   "name": "python3"
  },
  "language_info": {
   "name": "python",
   "version": "3.12.3"
  }
 },
 "nbformat": 4,
 "nbformat_minor": 0
}
